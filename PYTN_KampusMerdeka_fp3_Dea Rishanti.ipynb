{
  "cells": [
    {
      "cell_type": "markdown",
      "metadata": {
        "id": "83cowfJScjXg"
      },
      "source": [
        "#Perkenalan"
      ]
    },
    {
      "cell_type": "markdown",
      "metadata": {
        "id": "NS5MHjjNo34a"
      },
      "source": [
        "#Import module"
      ]
    },
    {
      "cell_type": "code",
      "execution_count": null,
      "metadata": {
        "id": "rbuiUYmeBhFR"
      },
      "outputs": [],
      "source": [
        "import pandas as pd\n",
        "import numpy as np\n",
        "import matplotlib.pyplot as plt\n",
        "import seaborn as sns\n",
        "import pickle\n",
        "\n",
        "from scipy import stats\n",
        "from sklearn.model_selection import train_test_split\n",
        "from sklearn.preprocessing import StandardScaler\n",
        "from sklearn.metrics import classification_report, accuracy_score, confusion_matrix\n",
        "from sklearn import preprocessing\n",
        "\n",
        "from sklearn.ensemble import BaggingClassifier, ExtraTreesClassifier\n",
        "from sklearn.tree import DecisionTreeClassifier\n",
        "from sklearn.ensemble import GradientBoostingClassifier, AdaBoostClassifier\n",
        "from sklearn.ensemble import VotingClassifier\n",
        "from sklearn.linear_model import LogisticRegression\n",
        "from sklearn.svm import SVC"
      ]
    },
    {
      "cell_type": "markdown",
      "metadata": {
        "id": "yrE-s52bo9Zg"
      },
      "source": [
        "#Load dataset"
      ]
    },
    {
      "cell_type": "code",
      "execution_count": null,
      "metadata": {
        "id": "-7ad9AhrBm-W"
      },
      "outputs": [],
      "source": [
        "df = pd.read_csv(\"/content/drive/MyDrive/kaggle_dataset/heart-failure/heart_failure_clinical_records_dataset.csv\")"
      ]
    },
    {
      "cell_type": "markdown",
      "metadata": {
        "id": "7wJ6ZsgKCAtt"
      },
      "source": [
        "1. age - umur pasien\n",
        "2. anaemia - apakah ada pengurangan haemoglobin\n",
        "3. creatinine_phosphokinase - level enzim CPK dalam mcg/L\n",
        "4. diabetes - apakah pasien punya riwayat diabetes\n",
        "5. ejection_fraction - persentase darah yang meninggalkan jantung dalam persentasi\n",
        "di setiap kontraksi jantung\n",
        "6. high_blood_pressure - apakah pasien punya darah tinggi\n",
        "7. platelets - jumlah platelet di darah dalam kiloplatelets/mL\n",
        "8. serum_creatinine - level serum creatinine di darah dalam mg/dL\n",
        "9. serum_sodium - level serum sodium di darah dalam mEq/L\n",
        "10. sex - apakah pasien pria atau wanita\n",
        "11. smoking - apakah pasien merokok\n",
        "12. time - waktu dalam hari untuk follow-up\n",
        "13. DEATH_EVENT - apakah pasien sudah meninggal saat waktu follow-up\n"
      ]
    },
    {
      "cell_type": "markdown",
      "metadata": {
        "id": "jc5QBiA8pBYD"
      },
      "source": [
        "#EDA"
      ]
    },
    {
      "cell_type": "code",
      "execution_count": null,
      "metadata": {
        "colab": {
          "base_uri": "https://localhost:8080/"
        },
        "id": "SPKl5KDYByD6",
        "outputId": "3fe13d11-1fc6-44d1-c4d4-6684c428324d"
      },
      "outputs": [
        {
          "data": {
            "text/html": [
              "\n",
              "  <div id=\"df-dff04e84-b1d3-4aaf-ac08-573434b4b331\">\n",
              "    <div class=\"colab-df-container\">\n",
              "      <div>\n",
              "<style scoped>\n",
              "    .dataframe tbody tr th:only-of-type {\n",
              "        vertical-align: middle;\n",
              "    }\n",
              "\n",
              "    .dataframe tbody tr th {\n",
              "        vertical-align: top;\n",
              "    }\n",
              "\n",
              "    .dataframe thead th {\n",
              "        text-align: right;\n",
              "    }\n",
              "</style>\n",
              "<table border=\"1\" class=\"dataframe\">\n",
              "  <thead>\n",
              "    <tr style=\"text-align: right;\">\n",
              "      <th></th>\n",
              "      <th>age</th>\n",
              "      <th>anaemia</th>\n",
              "      <th>creatinine_phosphokinase</th>\n",
              "      <th>diabetes</th>\n",
              "      <th>ejection_fraction</th>\n",
              "      <th>high_blood_pressure</th>\n",
              "      <th>platelets</th>\n",
              "      <th>serum_creatinine</th>\n",
              "      <th>serum_sodium</th>\n",
              "      <th>sex</th>\n",
              "      <th>smoking</th>\n",
              "      <th>time</th>\n",
              "      <th>DEATH_EVENT</th>\n",
              "    </tr>\n",
              "  </thead>\n",
              "  <tbody>\n",
              "    <tr>\n",
              "      <th>0</th>\n",
              "      <td>75.0</td>\n",
              "      <td>0</td>\n",
              "      <td>582</td>\n",
              "      <td>0</td>\n",
              "      <td>20</td>\n",
              "      <td>1</td>\n",
              "      <td>265000.00</td>\n",
              "      <td>1.9</td>\n",
              "      <td>130</td>\n",
              "      <td>1</td>\n",
              "      <td>0</td>\n",
              "      <td>4</td>\n",
              "      <td>1</td>\n",
              "    </tr>\n",
              "    <tr>\n",
              "      <th>1</th>\n",
              "      <td>55.0</td>\n",
              "      <td>0</td>\n",
              "      <td>7861</td>\n",
              "      <td>0</td>\n",
              "      <td>38</td>\n",
              "      <td>0</td>\n",
              "      <td>263358.03</td>\n",
              "      <td>1.1</td>\n",
              "      <td>136</td>\n",
              "      <td>1</td>\n",
              "      <td>0</td>\n",
              "      <td>6</td>\n",
              "      <td>1</td>\n",
              "    </tr>\n",
              "    <tr>\n",
              "      <th>2</th>\n",
              "      <td>65.0</td>\n",
              "      <td>0</td>\n",
              "      <td>146</td>\n",
              "      <td>0</td>\n",
              "      <td>20</td>\n",
              "      <td>0</td>\n",
              "      <td>162000.00</td>\n",
              "      <td>1.3</td>\n",
              "      <td>129</td>\n",
              "      <td>1</td>\n",
              "      <td>1</td>\n",
              "      <td>7</td>\n",
              "      <td>1</td>\n",
              "    </tr>\n",
              "    <tr>\n",
              "      <th>3</th>\n",
              "      <td>50.0</td>\n",
              "      <td>1</td>\n",
              "      <td>111</td>\n",
              "      <td>0</td>\n",
              "      <td>20</td>\n",
              "      <td>0</td>\n",
              "      <td>210000.00</td>\n",
              "      <td>1.9</td>\n",
              "      <td>137</td>\n",
              "      <td>1</td>\n",
              "      <td>0</td>\n",
              "      <td>7</td>\n",
              "      <td>1</td>\n",
              "    </tr>\n",
              "    <tr>\n",
              "      <th>4</th>\n",
              "      <td>65.0</td>\n",
              "      <td>1</td>\n",
              "      <td>160</td>\n",
              "      <td>1</td>\n",
              "      <td>20</td>\n",
              "      <td>0</td>\n",
              "      <td>327000.00</td>\n",
              "      <td>2.7</td>\n",
              "      <td>116</td>\n",
              "      <td>0</td>\n",
              "      <td>0</td>\n",
              "      <td>8</td>\n",
              "      <td>1</td>\n",
              "    </tr>\n",
              "    <tr>\n",
              "      <th>5</th>\n",
              "      <td>90.0</td>\n",
              "      <td>1</td>\n",
              "      <td>47</td>\n",
              "      <td>0</td>\n",
              "      <td>40</td>\n",
              "      <td>1</td>\n",
              "      <td>204000.00</td>\n",
              "      <td>2.1</td>\n",
              "      <td>132</td>\n",
              "      <td>1</td>\n",
              "      <td>1</td>\n",
              "      <td>8</td>\n",
              "      <td>1</td>\n",
              "    </tr>\n",
              "    <tr>\n",
              "      <th>6</th>\n",
              "      <td>75.0</td>\n",
              "      <td>1</td>\n",
              "      <td>246</td>\n",
              "      <td>0</td>\n",
              "      <td>15</td>\n",
              "      <td>0</td>\n",
              "      <td>127000.00</td>\n",
              "      <td>1.2</td>\n",
              "      <td>137</td>\n",
              "      <td>1</td>\n",
              "      <td>0</td>\n",
              "      <td>10</td>\n",
              "      <td>1</td>\n",
              "    </tr>\n",
              "    <tr>\n",
              "      <th>7</th>\n",
              "      <td>60.0</td>\n",
              "      <td>1</td>\n",
              "      <td>315</td>\n",
              "      <td>1</td>\n",
              "      <td>60</td>\n",
              "      <td>0</td>\n",
              "      <td>454000.00</td>\n",
              "      <td>1.1</td>\n",
              "      <td>131</td>\n",
              "      <td>1</td>\n",
              "      <td>1</td>\n",
              "      <td>10</td>\n",
              "      <td>1</td>\n",
              "    </tr>\n",
              "    <tr>\n",
              "      <th>8</th>\n",
              "      <td>65.0</td>\n",
              "      <td>0</td>\n",
              "      <td>157</td>\n",
              "      <td>0</td>\n",
              "      <td>65</td>\n",
              "      <td>0</td>\n",
              "      <td>263358.03</td>\n",
              "      <td>1.5</td>\n",
              "      <td>138</td>\n",
              "      <td>0</td>\n",
              "      <td>0</td>\n",
              "      <td>10</td>\n",
              "      <td>1</td>\n",
              "    </tr>\n",
              "    <tr>\n",
              "      <th>9</th>\n",
              "      <td>80.0</td>\n",
              "      <td>1</td>\n",
              "      <td>123</td>\n",
              "      <td>0</td>\n",
              "      <td>35</td>\n",
              "      <td>1</td>\n",
              "      <td>388000.00</td>\n",
              "      <td>9.4</td>\n",
              "      <td>133</td>\n",
              "      <td>1</td>\n",
              "      <td>1</td>\n",
              "      <td>10</td>\n",
              "      <td>1</td>\n",
              "    </tr>\n",
              "  </tbody>\n",
              "</table>\n",
              "</div>\n",
              "      <button class=\"colab-df-convert\" onclick=\"convertToInteractive('df-dff04e84-b1d3-4aaf-ac08-573434b4b331')\"\n",
              "              title=\"Convert this dataframe to an interactive table.\"\n",
              "              style=\"display:none;\">\n",
              "        \n",
              "  <svg xmlns=\"http://www.w3.org/2000/svg\" height=\"24px\"viewBox=\"0 0 24 24\"\n",
              "       width=\"24px\">\n",
              "    <path d=\"M0 0h24v24H0V0z\" fill=\"none\"/>\n",
              "    <path d=\"M18.56 5.44l.94 2.06.94-2.06 2.06-.94-2.06-.94-.94-2.06-.94 2.06-2.06.94zm-11 1L8.5 8.5l.94-2.06 2.06-.94-2.06-.94L8.5 2.5l-.94 2.06-2.06.94zm10 10l.94 2.06.94-2.06 2.06-.94-2.06-.94-.94-2.06-.94 2.06-2.06.94z\"/><path d=\"M17.41 7.96l-1.37-1.37c-.4-.4-.92-.59-1.43-.59-.52 0-1.04.2-1.43.59L10.3 9.45l-7.72 7.72c-.78.78-.78 2.05 0 2.83L4 21.41c.39.39.9.59 1.41.59.51 0 1.02-.2 1.41-.59l7.78-7.78 2.81-2.81c.8-.78.8-2.07 0-2.86zM5.41 20L4 18.59l7.72-7.72 1.47 1.35L5.41 20z\"/>\n",
              "  </svg>\n",
              "      </button>\n",
              "      \n",
              "  <style>\n",
              "    .colab-df-container {\n",
              "      display:flex;\n",
              "      flex-wrap:wrap;\n",
              "      gap: 12px;\n",
              "    }\n",
              "\n",
              "    .colab-df-convert {\n",
              "      background-color: #E8F0FE;\n",
              "      border: none;\n",
              "      border-radius: 50%;\n",
              "      cursor: pointer;\n",
              "      display: none;\n",
              "      fill: #1967D2;\n",
              "      height: 32px;\n",
              "      padding: 0 0 0 0;\n",
              "      width: 32px;\n",
              "    }\n",
              "\n",
              "    .colab-df-convert:hover {\n",
              "      background-color: #E2EBFA;\n",
              "      box-shadow: 0px 1px 2px rgba(60, 64, 67, 0.3), 0px 1px 3px 1px rgba(60, 64, 67, 0.15);\n",
              "      fill: #174EA6;\n",
              "    }\n",
              "\n",
              "    [theme=dark] .colab-df-convert {\n",
              "      background-color: #3B4455;\n",
              "      fill: #D2E3FC;\n",
              "    }\n",
              "\n",
              "    [theme=dark] .colab-df-convert:hover {\n",
              "      background-color: #434B5C;\n",
              "      box-shadow: 0px 1px 3px 1px rgba(0, 0, 0, 0.15);\n",
              "      filter: drop-shadow(0px 1px 2px rgba(0, 0, 0, 0.3));\n",
              "      fill: #FFFFFF;\n",
              "    }\n",
              "  </style>\n",
              "\n",
              "      <script>\n",
              "        const buttonEl =\n",
              "          document.querySelector('#df-dff04e84-b1d3-4aaf-ac08-573434b4b331 button.colab-df-convert');\n",
              "        buttonEl.style.display =\n",
              "          google.colab.kernel.accessAllowed ? 'block' : 'none';\n",
              "\n",
              "        async function convertToInteractive(key) {\n",
              "          const element = document.querySelector('#df-dff04e84-b1d3-4aaf-ac08-573434b4b331');\n",
              "          const dataTable =\n",
              "            await google.colab.kernel.invokeFunction('convertToInteractive',\n",
              "                                                     [key], {});\n",
              "          if (!dataTable) return;\n",
              "\n",
              "          const docLinkHtml = 'Like what you see? Visit the ' +\n",
              "            '<a target=\"_blank\" href=https://colab.research.google.com/notebooks/data_table.ipynb>data table notebook</a>'\n",
              "            + ' to learn more about interactive tables.';\n",
              "          element.innerHTML = '';\n",
              "          dataTable['output_type'] = 'display_data';\n",
              "          await google.colab.output.renderOutput(dataTable, element);\n",
              "          const docLink = document.createElement('div');\n",
              "          docLink.innerHTML = docLinkHtml;\n",
              "          element.appendChild(docLink);\n",
              "        }\n",
              "      </script>\n",
              "    </div>\n",
              "  </div>\n",
              "  "
            ],
            "text/plain": [
              "    age  anaemia  creatinine_phosphokinase  diabetes  ejection_fraction  \\\n",
              "0  75.0        0                       582         0                 20   \n",
              "1  55.0        0                      7861         0                 38   \n",
              "2  65.0        0                       146         0                 20   \n",
              "3  50.0        1                       111         0                 20   \n",
              "4  65.0        1                       160         1                 20   \n",
              "5  90.0        1                        47         0                 40   \n",
              "6  75.0        1                       246         0                 15   \n",
              "7  60.0        1                       315         1                 60   \n",
              "8  65.0        0                       157         0                 65   \n",
              "9  80.0        1                       123         0                 35   \n",
              "\n",
              "   high_blood_pressure  platelets  serum_creatinine  serum_sodium  sex  \\\n",
              "0                    1  265000.00               1.9           130    1   \n",
              "1                    0  263358.03               1.1           136    1   \n",
              "2                    0  162000.00               1.3           129    1   \n",
              "3                    0  210000.00               1.9           137    1   \n",
              "4                    0  327000.00               2.7           116    0   \n",
              "5                    1  204000.00               2.1           132    1   \n",
              "6                    0  127000.00               1.2           137    1   \n",
              "7                    0  454000.00               1.1           131    1   \n",
              "8                    0  263358.03               1.5           138    0   \n",
              "9                    1  388000.00               9.4           133    1   \n",
              "\n",
              "   smoking  time  DEATH_EVENT  \n",
              "0        0     4            1  \n",
              "1        0     6            1  \n",
              "2        1     7            1  \n",
              "3        0     7            1  \n",
              "4        0     8            1  \n",
              "5        1     8            1  \n",
              "6        0    10            1  \n",
              "7        1    10            1  \n",
              "8        0    10            1  \n",
              "9        1    10            1  "
            ]
          },
          "execution_count": 3,
          "metadata": {},
          "output_type": "execute_result"
        }
      ],
      "source": [
        "df.head(10)"
      ]
    },
    {
      "cell_type": "code",
      "execution_count": null,
      "metadata": {
        "colab": {
          "base_uri": "https://localhost:8080/"
        },
        "id": "-p-eRomZCHFH",
        "outputId": "9fa6c154-4113-488b-ccd9-b83b32f7fcb8"
      },
      "outputs": [
        {
          "data": {
            "text/html": [
              "\n",
              "  <div id=\"df-5e779496-e41b-475f-891b-a27934145d8a\">\n",
              "    <div class=\"colab-df-container\">\n",
              "      <div>\n",
              "<style scoped>\n",
              "    .dataframe tbody tr th:only-of-type {\n",
              "        vertical-align: middle;\n",
              "    }\n",
              "\n",
              "    .dataframe tbody tr th {\n",
              "        vertical-align: top;\n",
              "    }\n",
              "\n",
              "    .dataframe thead th {\n",
              "        text-align: right;\n",
              "    }\n",
              "</style>\n",
              "<table border=\"1\" class=\"dataframe\">\n",
              "  <thead>\n",
              "    <tr style=\"text-align: right;\">\n",
              "      <th></th>\n",
              "      <th>age</th>\n",
              "      <th>anaemia</th>\n",
              "      <th>creatinine_phosphokinase</th>\n",
              "      <th>diabetes</th>\n",
              "      <th>ejection_fraction</th>\n",
              "      <th>high_blood_pressure</th>\n",
              "      <th>platelets</th>\n",
              "      <th>serum_creatinine</th>\n",
              "      <th>serum_sodium</th>\n",
              "      <th>sex</th>\n",
              "      <th>smoking</th>\n",
              "      <th>time</th>\n",
              "      <th>DEATH_EVENT</th>\n",
              "    </tr>\n",
              "  </thead>\n",
              "  <tbody>\n",
              "    <tr>\n",
              "      <th>289</th>\n",
              "      <td>90.0</td>\n",
              "      <td>1</td>\n",
              "      <td>337</td>\n",
              "      <td>0</td>\n",
              "      <td>38</td>\n",
              "      <td>0</td>\n",
              "      <td>390000.0</td>\n",
              "      <td>0.9</td>\n",
              "      <td>144</td>\n",
              "      <td>0</td>\n",
              "      <td>0</td>\n",
              "      <td>256</td>\n",
              "      <td>0</td>\n",
              "    </tr>\n",
              "    <tr>\n",
              "      <th>290</th>\n",
              "      <td>45.0</td>\n",
              "      <td>0</td>\n",
              "      <td>615</td>\n",
              "      <td>1</td>\n",
              "      <td>55</td>\n",
              "      <td>0</td>\n",
              "      <td>222000.0</td>\n",
              "      <td>0.8</td>\n",
              "      <td>141</td>\n",
              "      <td>0</td>\n",
              "      <td>0</td>\n",
              "      <td>257</td>\n",
              "      <td>0</td>\n",
              "    </tr>\n",
              "    <tr>\n",
              "      <th>291</th>\n",
              "      <td>60.0</td>\n",
              "      <td>0</td>\n",
              "      <td>320</td>\n",
              "      <td>0</td>\n",
              "      <td>35</td>\n",
              "      <td>0</td>\n",
              "      <td>133000.0</td>\n",
              "      <td>1.4</td>\n",
              "      <td>139</td>\n",
              "      <td>1</td>\n",
              "      <td>0</td>\n",
              "      <td>258</td>\n",
              "      <td>0</td>\n",
              "    </tr>\n",
              "    <tr>\n",
              "      <th>292</th>\n",
              "      <td>52.0</td>\n",
              "      <td>0</td>\n",
              "      <td>190</td>\n",
              "      <td>1</td>\n",
              "      <td>38</td>\n",
              "      <td>0</td>\n",
              "      <td>382000.0</td>\n",
              "      <td>1.0</td>\n",
              "      <td>140</td>\n",
              "      <td>1</td>\n",
              "      <td>1</td>\n",
              "      <td>258</td>\n",
              "      <td>0</td>\n",
              "    </tr>\n",
              "    <tr>\n",
              "      <th>293</th>\n",
              "      <td>63.0</td>\n",
              "      <td>1</td>\n",
              "      <td>103</td>\n",
              "      <td>1</td>\n",
              "      <td>35</td>\n",
              "      <td>0</td>\n",
              "      <td>179000.0</td>\n",
              "      <td>0.9</td>\n",
              "      <td>136</td>\n",
              "      <td>1</td>\n",
              "      <td>1</td>\n",
              "      <td>270</td>\n",
              "      <td>0</td>\n",
              "    </tr>\n",
              "    <tr>\n",
              "      <th>294</th>\n",
              "      <td>62.0</td>\n",
              "      <td>0</td>\n",
              "      <td>61</td>\n",
              "      <td>1</td>\n",
              "      <td>38</td>\n",
              "      <td>1</td>\n",
              "      <td>155000.0</td>\n",
              "      <td>1.1</td>\n",
              "      <td>143</td>\n",
              "      <td>1</td>\n",
              "      <td>1</td>\n",
              "      <td>270</td>\n",
              "      <td>0</td>\n",
              "    </tr>\n",
              "    <tr>\n",
              "      <th>295</th>\n",
              "      <td>55.0</td>\n",
              "      <td>0</td>\n",
              "      <td>1820</td>\n",
              "      <td>0</td>\n",
              "      <td>38</td>\n",
              "      <td>0</td>\n",
              "      <td>270000.0</td>\n",
              "      <td>1.2</td>\n",
              "      <td>139</td>\n",
              "      <td>0</td>\n",
              "      <td>0</td>\n",
              "      <td>271</td>\n",
              "      <td>0</td>\n",
              "    </tr>\n",
              "    <tr>\n",
              "      <th>296</th>\n",
              "      <td>45.0</td>\n",
              "      <td>0</td>\n",
              "      <td>2060</td>\n",
              "      <td>1</td>\n",
              "      <td>60</td>\n",
              "      <td>0</td>\n",
              "      <td>742000.0</td>\n",
              "      <td>0.8</td>\n",
              "      <td>138</td>\n",
              "      <td>0</td>\n",
              "      <td>0</td>\n",
              "      <td>278</td>\n",
              "      <td>0</td>\n",
              "    </tr>\n",
              "    <tr>\n",
              "      <th>297</th>\n",
              "      <td>45.0</td>\n",
              "      <td>0</td>\n",
              "      <td>2413</td>\n",
              "      <td>0</td>\n",
              "      <td>38</td>\n",
              "      <td>0</td>\n",
              "      <td>140000.0</td>\n",
              "      <td>1.4</td>\n",
              "      <td>140</td>\n",
              "      <td>1</td>\n",
              "      <td>1</td>\n",
              "      <td>280</td>\n",
              "      <td>0</td>\n",
              "    </tr>\n",
              "    <tr>\n",
              "      <th>298</th>\n",
              "      <td>50.0</td>\n",
              "      <td>0</td>\n",
              "      <td>196</td>\n",
              "      <td>0</td>\n",
              "      <td>45</td>\n",
              "      <td>0</td>\n",
              "      <td>395000.0</td>\n",
              "      <td>1.6</td>\n",
              "      <td>136</td>\n",
              "      <td>1</td>\n",
              "      <td>1</td>\n",
              "      <td>285</td>\n",
              "      <td>0</td>\n",
              "    </tr>\n",
              "  </tbody>\n",
              "</table>\n",
              "</div>\n",
              "      <button class=\"colab-df-convert\" onclick=\"convertToInteractive('df-5e779496-e41b-475f-891b-a27934145d8a')\"\n",
              "              title=\"Convert this dataframe to an interactive table.\"\n",
              "              style=\"display:none;\">\n",
              "        \n",
              "  <svg xmlns=\"http://www.w3.org/2000/svg\" height=\"24px\"viewBox=\"0 0 24 24\"\n",
              "       width=\"24px\">\n",
              "    <path d=\"M0 0h24v24H0V0z\" fill=\"none\"/>\n",
              "    <path d=\"M18.56 5.44l.94 2.06.94-2.06 2.06-.94-2.06-.94-.94-2.06-.94 2.06-2.06.94zm-11 1L8.5 8.5l.94-2.06 2.06-.94-2.06-.94L8.5 2.5l-.94 2.06-2.06.94zm10 10l.94 2.06.94-2.06 2.06-.94-2.06-.94-.94-2.06-.94 2.06-2.06.94z\"/><path d=\"M17.41 7.96l-1.37-1.37c-.4-.4-.92-.59-1.43-.59-.52 0-1.04.2-1.43.59L10.3 9.45l-7.72 7.72c-.78.78-.78 2.05 0 2.83L4 21.41c.39.39.9.59 1.41.59.51 0 1.02-.2 1.41-.59l7.78-7.78 2.81-2.81c.8-.78.8-2.07 0-2.86zM5.41 20L4 18.59l7.72-7.72 1.47 1.35L5.41 20z\"/>\n",
              "  </svg>\n",
              "      </button>\n",
              "      \n",
              "  <style>\n",
              "    .colab-df-container {\n",
              "      display:flex;\n",
              "      flex-wrap:wrap;\n",
              "      gap: 12px;\n",
              "    }\n",
              "\n",
              "    .colab-df-convert {\n",
              "      background-color: #E8F0FE;\n",
              "      border: none;\n",
              "      border-radius: 50%;\n",
              "      cursor: pointer;\n",
              "      display: none;\n",
              "      fill: #1967D2;\n",
              "      height: 32px;\n",
              "      padding: 0 0 0 0;\n",
              "      width: 32px;\n",
              "    }\n",
              "\n",
              "    .colab-df-convert:hover {\n",
              "      background-color: #E2EBFA;\n",
              "      box-shadow: 0px 1px 2px rgba(60, 64, 67, 0.3), 0px 1px 3px 1px rgba(60, 64, 67, 0.15);\n",
              "      fill: #174EA6;\n",
              "    }\n",
              "\n",
              "    [theme=dark] .colab-df-convert {\n",
              "      background-color: #3B4455;\n",
              "      fill: #D2E3FC;\n",
              "    }\n",
              "\n",
              "    [theme=dark] .colab-df-convert:hover {\n",
              "      background-color: #434B5C;\n",
              "      box-shadow: 0px 1px 3px 1px rgba(0, 0, 0, 0.15);\n",
              "      filter: drop-shadow(0px 1px 2px rgba(0, 0, 0, 0.3));\n",
              "      fill: #FFFFFF;\n",
              "    }\n",
              "  </style>\n",
              "\n",
              "      <script>\n",
              "        const buttonEl =\n",
              "          document.querySelector('#df-5e779496-e41b-475f-891b-a27934145d8a button.colab-df-convert');\n",
              "        buttonEl.style.display =\n",
              "          google.colab.kernel.accessAllowed ? 'block' : 'none';\n",
              "\n",
              "        async function convertToInteractive(key) {\n",
              "          const element = document.querySelector('#df-5e779496-e41b-475f-891b-a27934145d8a');\n",
              "          const dataTable =\n",
              "            await google.colab.kernel.invokeFunction('convertToInteractive',\n",
              "                                                     [key], {});\n",
              "          if (!dataTable) return;\n",
              "\n",
              "          const docLinkHtml = 'Like what you see? Visit the ' +\n",
              "            '<a target=\"_blank\" href=https://colab.research.google.com/notebooks/data_table.ipynb>data table notebook</a>'\n",
              "            + ' to learn more about interactive tables.';\n",
              "          element.innerHTML = '';\n",
              "          dataTable['output_type'] = 'display_data';\n",
              "          await google.colab.output.renderOutput(dataTable, element);\n",
              "          const docLink = document.createElement('div');\n",
              "          docLink.innerHTML = docLinkHtml;\n",
              "          element.appendChild(docLink);\n",
              "        }\n",
              "      </script>\n",
              "    </div>\n",
              "  </div>\n",
              "  "
            ],
            "text/plain": [
              "      age  anaemia  creatinine_phosphokinase  diabetes  ejection_fraction  \\\n",
              "289  90.0        1                       337         0                 38   \n",
              "290  45.0        0                       615         1                 55   \n",
              "291  60.0        0                       320         0                 35   \n",
              "292  52.0        0                       190         1                 38   \n",
              "293  63.0        1                       103         1                 35   \n",
              "294  62.0        0                        61         1                 38   \n",
              "295  55.0        0                      1820         0                 38   \n",
              "296  45.0        0                      2060         1                 60   \n",
              "297  45.0        0                      2413         0                 38   \n",
              "298  50.0        0                       196         0                 45   \n",
              "\n",
              "     high_blood_pressure  platelets  serum_creatinine  serum_sodium  sex  \\\n",
              "289                    0   390000.0               0.9           144    0   \n",
              "290                    0   222000.0               0.8           141    0   \n",
              "291                    0   133000.0               1.4           139    1   \n",
              "292                    0   382000.0               1.0           140    1   \n",
              "293                    0   179000.0               0.9           136    1   \n",
              "294                    1   155000.0               1.1           143    1   \n",
              "295                    0   270000.0               1.2           139    0   \n",
              "296                    0   742000.0               0.8           138    0   \n",
              "297                    0   140000.0               1.4           140    1   \n",
              "298                    0   395000.0               1.6           136    1   \n",
              "\n",
              "     smoking  time  DEATH_EVENT  \n",
              "289        0   256            0  \n",
              "290        0   257            0  \n",
              "291        0   258            0  \n",
              "292        1   258            0  \n",
              "293        1   270            0  \n",
              "294        1   270            0  \n",
              "295        0   271            0  \n",
              "296        0   278            0  \n",
              "297        1   280            0  \n",
              "298        1   285            0  "
            ]
          },
          "execution_count": 4,
          "metadata": {},
          "output_type": "execute_result"
        }
      ],
      "source": [
        "df.tail(10)"
      ]
    },
    {
      "cell_type": "code",
      "execution_count": null,
      "metadata": {
        "colab": {
          "base_uri": "https://localhost:8080/"
        },
        "id": "U-16hZ0bB1uX",
        "outputId": "289a8330-bb85-4905-a75b-b275f076e855"
      },
      "outputs": [
        {
          "name": "stdout",
          "output_type": "stream",
          "text": [
            "<class 'pandas.core.frame.DataFrame'>\n",
            "RangeIndex: 299 entries, 0 to 298\n",
            "Data columns (total 13 columns):\n",
            " #   Column                    Non-Null Count  Dtype  \n",
            "---  ------                    --------------  -----  \n",
            " 0   age                       299 non-null    float64\n",
            " 1   anaemia                   299 non-null    int64  \n",
            " 2   creatinine_phosphokinase  299 non-null    int64  \n",
            " 3   diabetes                  299 non-null    int64  \n",
            " 4   ejection_fraction         299 non-null    int64  \n",
            " 5   high_blood_pressure       299 non-null    int64  \n",
            " 6   platelets                 299 non-null    float64\n",
            " 7   serum_creatinine          299 non-null    float64\n",
            " 8   serum_sodium              299 non-null    int64  \n",
            " 9   sex                       299 non-null    int64  \n",
            " 10  smoking                   299 non-null    int64  \n",
            " 11  time                      299 non-null    int64  \n",
            " 12  DEATH_EVENT               299 non-null    int64  \n",
            "dtypes: float64(3), int64(10)\n",
            "memory usage: 30.5 KB\n"
          ]
        }
      ],
      "source": [
        "df.info()"
      ]
    },
    {
      "cell_type": "code",
      "execution_count": null,
      "metadata": {
        "colab": {
          "base_uri": "https://localhost:8080/"
        },
        "id": "gS2wiCMDBLdJ",
        "outputId": "64ed5568-192d-407b-e08e-4c4dd03bb0e4"
      },
      "outputs": [
        {
          "data": {
            "text/plain": [
              "Index(['age', 'anaemia', 'creatinine_phosphokinase', 'diabetes',\n",
              "       'ejection_fraction', 'high_blood_pressure', 'platelets',\n",
              "       'serum_creatinine', 'serum_sodium', 'sex', 'smoking', 'time',\n",
              "       'DEATH_EVENT'],\n",
              "      dtype='object')"
            ]
          },
          "execution_count": 6,
          "metadata": {},
          "output_type": "execute_result"
        }
      ],
      "source": [
        "df.columns"
      ]
    },
    {
      "cell_type": "markdown",
      "metadata": {
        "id": "vSlQ2T7lNyYg"
      },
      "source": [
        "##Checking na value"
      ]
    },
    {
      "cell_type": "code",
      "execution_count": null,
      "metadata": {
        "colab": {
          "base_uri": "https://localhost:8080/"
        },
        "id": "Mas0n-jaB4un",
        "outputId": "3901c2b2-2124-4db1-dda5-e8a0da510b14"
      },
      "outputs": [
        {
          "data": {
            "text/plain": [
              "age                         0\n",
              "anaemia                     0\n",
              "creatinine_phosphokinase    0\n",
              "diabetes                    0\n",
              "ejection_fraction           0\n",
              "high_blood_pressure         0\n",
              "platelets                   0\n",
              "serum_creatinine            0\n",
              "serum_sodium                0\n",
              "sex                         0\n",
              "smoking                     0\n",
              "time                        0\n",
              "DEATH_EVENT                 0\n",
              "dtype: int64"
            ]
          },
          "execution_count": 7,
          "metadata": {},
          "output_type": "execute_result"
        }
      ],
      "source": [
        "df.isnull().sum()"
      ]
    },
    {
      "cell_type": "markdown",
      "metadata": {
        "id": "up0q5uuhN9mJ"
      },
      "source": [
        "Dataset ini tidak memiliki na value"
      ]
    },
    {
      "cell_type": "markdown",
      "metadata": {
        "id": "58muoQeLKhBV"
      },
      "source": [
        "#Data Cleaning"
      ]
    },
    {
      "cell_type": "code",
      "execution_count": null,
      "metadata": {
        "id": "CCTmvaO4B74I"
      },
      "outputs": [],
      "source": [
        "X = df.drop(['DEATH_EVENT'], axis=1)\n",
        "y = df['DEATH_EVENT']"
      ]
    },
    {
      "cell_type": "code",
      "execution_count": null,
      "metadata": {
        "id": "OVImkkshCWUT"
      },
      "outputs": [],
      "source": [
        "X_train,X_test,y_train,y_test = train_test_split(X,y,test_size = 0.3,random_state = 123)"
      ]
    },
    {
      "cell_type": "markdown",
      "metadata": {
        "id": "uyVfWR6xKlp3"
      },
      "source": [
        "##Outlier Handling\n"
      ]
    },
    {
      "cell_type": "markdown",
      "metadata": {
        "id": "2I7u6rMWL4g9"
      },
      "source": [
        "###Identify variable distribution"
      ]
    },
    {
      "cell_type": "code",
      "execution_count": null,
      "metadata": {
        "id": "z_7JGpU5LzxN"
      },
      "outputs": [],
      "source": [
        "def diagnostic_plots(df, variable):\n",
        "    plt.figure(figsize=(16, 4))\n",
        "\n",
        "    plt.subplot(1, 2, 1)\n",
        "    sns.histplot(df[variable], bins=30)\n",
        "    plt.title('Histogram')\n",
        "\n",
        "    plt.subplot(1, 2, 2)\n",
        "    sns.boxplot(y=df[variable])\n",
        "    plt.title('Boxplot')\n",
        "\n",
        "    plt.show()"
      ]
    },
    {
      "cell_type": "code",
      "execution_count": null,
      "metadata": {
        "colab": {
          "base_uri": "https://localhost:8080/"
        },
        "id": "RTolsHUCTLR-",
        "outputId": "1fb2b81e-06c1-4021-a491-16ac15ac3626"
      },
      "outputs": [
        {
          "data": {
            "text/plain": [
              "0    120\n",
              "1     89\n",
              "Name: anaemia, dtype: int64"
            ]
          },
          "execution_count": 11,
          "metadata": {},
          "output_type": "execute_result"
        }
      ],
      "source": [
        "X_train['anaemia'].value_counts()"
      ]
    },
    {
      "cell_type": "code",
      "execution_count": null,
      "metadata": {
        "colab": {
          "base_uri": "https://localhost:8080/"
        },
        "id": "XBlbONbZTcew",
        "outputId": "43396166-e244-471d-caf6-aa1680a58a54"
      },
      "outputs": [
        {
          "data": {
            "text/plain": [
              "0    127\n",
              "1     82\n",
              "Name: diabetes, dtype: int64"
            ]
          },
          "execution_count": 12,
          "metadata": {},
          "output_type": "execute_result"
        }
      ],
      "source": [
        "X_train['diabetes'].value_counts()"
      ]
    },
    {
      "cell_type": "code",
      "execution_count": null,
      "metadata": {
        "colab": {
          "base_uri": "https://localhost:8080/"
        },
        "id": "W8WL1MlqTczt",
        "outputId": "f721d56a-3fe3-44ad-8c34-3a945a23f76a"
      },
      "outputs": [
        {
          "data": {
            "text/plain": [
              "0    133\n",
              "1     76\n",
              "Name: high_blood_pressure, dtype: int64"
            ]
          },
          "execution_count": 13,
          "metadata": {},
          "output_type": "execute_result"
        }
      ],
      "source": [
        "X_train['high_blood_pressure'].value_counts()"
      ]
    },
    {
      "cell_type": "code",
      "execution_count": null,
      "metadata": {
        "colab": {
          "base_uri": "https://localhost:8080/"
        },
        "id": "7QRrFVYkTdK5",
        "outputId": "2eda8f1f-bb27-4959-8621-79268ad9a6c7"
      },
      "outputs": [
        {
          "data": {
            "text/plain": [
              "1    134\n",
              "0     75\n",
              "Name: sex, dtype: int64"
            ]
          },
          "execution_count": 14,
          "metadata": {},
          "output_type": "execute_result"
        }
      ],
      "source": [
        "X_train['sex'].value_counts()"
      ]
    },
    {
      "cell_type": "code",
      "execution_count": null,
      "metadata": {
        "colab": {
          "base_uri": "https://localhost:8080/"
        },
        "id": "GY6YrKvwTqSR",
        "outputId": "43526daa-e20e-4549-ea4f-594d13fdddfb"
      },
      "outputs": [
        {
          "data": {
            "text/plain": [
              "0    141\n",
              "1     68\n",
              "Name: smoking, dtype: int64"
            ]
          },
          "execution_count": 15,
          "metadata": {},
          "output_type": "execute_result"
        }
      ],
      "source": [
        "X_train['smoking'].value_counts()"
      ]
    },
    {
      "cell_type": "markdown",
      "metadata": {
        "id": "Z1O5rRqpUqJ5"
      },
      "source": [
        "Column diatas tidak perlu di identifikasi karena hanya memiliki nilai 1/0"
      ]
    },
    {
      "cell_type": "code",
      "execution_count": null,
      "metadata": {
        "colab": {
          "base_uri": "https://localhost:8080/",
          "height": 1000
        },
        "id": "CuwVrfujMBUN",
        "outputId": "2158abae-7036-4707-f9cc-a276ade4fb85"
      },
      "outputs": [
        {
          "data": {
            "image/png": "[encoded data removed]",
            "text/plain": [
              "<Figure size 1600x400 with 2 Axes>"
            ]
          },
          "metadata": {},
          "output_type": "display_data"
        },
        {
          "data": {
            "image/png": "[encoded data removed]",
            "text/plain": [
              "<Figure size 1600x400 with 2 Axes>"
            ]
          },
          "metadata": {},
          "output_type": "display_data"
        },
        {
          "data": {
            "image/png": "[encoded data removed]",
            "text/plain": [
              "<Figure size 1600x400 with 2 Axes>"
            ]
          },
          "metadata": {},
          "output_type": "display_data"
        },
        {
          "data": {
            "image/png": "[encoded data removed]",
            "text/plain": [
              "<Figure size 1600x400 with 2 Axes>"
            ]
          },
          "metadata": {},
          "output_type": "display_data"
        },
        {
          "data": {
            "image/png": "[encoded data removed]",
            "text/plain": [
              "<Figure size 1600x400 with 2 Axes>"
            ]
          },
          "metadata": {},
          "output_type": "display_data"
        },
        {
          "data": {
            "image/png": "[encoded data removed]",
            "text/plain": [
              "<Figure size 1600x400 with 2 Axes>"
            ]
          },
          "metadata": {},
          "output_type": "display_data"
        }
      ],
      "source": [
        "diagnostic_plots(X_train, 'age')\n",
        "diagnostic_plots(X_train, 'creatinine_phosphokinase')\n",
        "diagnostic_plots(X_train, 'ejection_fraction')\n",
        "diagnostic_plots(X_train, 'serum_creatinine')\n",
        "diagnostic_plots(X_train, 'serum_sodium')\n",
        "diagnostic_plots(X_train, 'time')"
      ]
    },
    {
      "cell_type": "code",
      "execution_count": null,
      "metadata": {
        "colab": {
          "base_uri": "https://localhost:8080/"
        },
        "id": "CW7qLiQlmraF",
        "outputId": "8e5e035a-cea8-4531-ab68-0714478b5fe5"
      },
      "outputs": [
        {
          "name": "stdout",
          "output_type": "stream",
          "text": [
            "age Skewness Value                         :  0.42738587061664973\n",
            "creatinine_phosphokinase Skewness Value    :  4.774175421666965\n",
            "ejection_fraction Skewness Value           :  0.6100052982802494\n",
            "serum_creatinine Skewness Value            :  4.541248975457016\n",
            "serum_sodium Skewness Value                :  -1.3660497299952594\n",
            "time Skewness Value                        :  0.15890548589767328\n"
          ]
        }
      ],
      "source": [
        "print('age Skewness Value                         : ', X_train['age'].skew())\n",
        "print('creatinine_phosphokinase Skewness Value    : ', X_train['creatinine_phosphokinase'].skew())\n",
        "print('ejection_fraction Skewness Value           : ', X_train['ejection_fraction'].skew())\n",
        "print('serum_creatinine Skewness Value            : ', X_train['serum_creatinine'].skew())\n",
        "print('serum_sodium Skewness Value                : ', X_train['serum_sodium'].skew())\n",
        "print('time Skewness Value                        : ', X_train['time'].skew())"
      ]
    },
    {
      "cell_type": "markdown",
      "metadata": {
        "id": "EEuciiW1qzY9"
      },
      "source": [
        "###Outlier detection for Normally distributed variables"
      ]
    },
    {
      "cell_type": "markdown",
      "metadata": {
        "id": "31eIq9t21Z8X"
      },
      "source": [
        "jika dilihat dari boxplot 'age' dan 'time' tidak memiliki Outlier,"
      ]
    },
    {
      "cell_type": "code",
      "execution_count": null,
      "metadata": {
        "id": "R504mmlNq7p2"
      },
      "outputs": [],
      "source": [
        "def find_normal_boundaries(df, variable):\n",
        "    upper_boundary = df[variable].mean() + 3 * df[variable].std()\n",
        "    lower_boundary = df[variable].mean() - 3 * df[variable].std()\n",
        "\n",
        "    return upper_boundary, lower_boundary"
      ]
    },
    {
      "cell_type": "code",
      "execution_count": null,
      "metadata": {
        "colab": {
          "base_uri": "https://localhost:8080/"
        },
        "id": "0Bcarrp7q_Al",
        "outputId": "6ad10071-4bd0-4f66-8988-1edab771819c"
      },
      "outputs": [
        {
          "name": "stdout",
          "output_type": "stream",
          "text": [
            "age upper limit  :  95.21723366168871\n",
            "age lower limit  :  24.789149113430916\n",
            "time upper limit :  361.6813187296849\n",
            "time lower limit :  -102.59040963877581\n"
          ]
        }
      ],
      "source": [
        "age_upper_boundary, age_lower_boundary = find_normal_boundaries(X_train, 'age')\n",
        "age_upper_boundary, age_lower_boundary\n",
        "\n",
        "time_upper_boundary, time_lower_boundary = find_normal_boundaries(X_train, 'time')\n",
        "time_upper_boundary, time_lower_boundary\n",
        "\n",
        "print('age upper limit  : ', age_upper_boundary)\n",
        "print('age lower limit  : ', age_lower_boundary)\n",
        "print('time upper limit : ', time_upper_boundary)\n",
        "print('time lower limit : ', time_lower_boundary)"
      ]
    },
    {
      "cell_type": "code",
      "execution_count": null,
      "metadata": {
        "colab": {
          "base_uri": "https://localhost:8080/"
        },
        "id": "PsqJAc1fraYS",
        "outputId": "8fea84fd-3898-4c95-e2b2-ea4ae35dda6f"
      },
      "outputs": [
        {
          "name": "stdout",
          "output_type": "stream",
          "text": [
            "Total age: 209\n",
            "age with more than 95 (right end outliers) : 0\n",
            "age with less than 24 (left end outliers.  : 0\n",
            "\n",
            "% right end outliers : 0.0\n",
            "% left end outliers  : 0.0\n"
          ]
        }
      ],
      "source": [
        "print('Total age: {}'.format(len(X_train)))\n",
        "print('age with more than 95 (right end outliers) : {}'.format(len(X_train[X_train['age'] > age_upper_boundary])))\n",
        "print('age with less than 24 (left end outliers.  : {}'.format(len(X_train[X_train['age'] < age_lower_boundary])))\n",
        "print('')\n",
        "print('% right end outliers : {}'.format(len(X_train[X_train['age'] > age_upper_boundary]) / len(X_train) * 100))\n",
        "print('% left end outliers  : {}'.format(len(X_train[X_train['age'] < age_lower_boundary]) / len(X_train) * 100))"
      ]
    },
    {
      "cell_type": "code",
      "execution_count": null,
      "metadata": {
        "colab": {
          "base_uri": "https://localhost:8080/"
        },
        "id": "xBibl7ZesZsa",
        "outputId": "fa451354-0992-4d43-b358-ed665f8530da"
      },
      "outputs": [
        {
          "name": "stdout",
          "output_type": "stream",
          "text": [
            "Total time: 209\n",
            "time with more than 95 (right end outliers) : 0\n",
            "time with less than 24 (left end outliers.  : 0\n",
            "\n",
            "% right end outliers : 0.0\n",
            "% left end outliers  : 0.0\n"
          ]
        }
      ],
      "source": [
        "print('Total time: {}'.format(len(X_train)))\n",
        "print('time with more than 95 (right end outliers) : {}'.format(len(X_train[X_train['time'] > time_upper_boundary])))\n",
        "print('time with less than 24 (left end outliers.  : {}'.format(len(X_train[X_train['time'] < time_lower_boundary])))\n",
        "print('')\n",
        "print('% right end outliers : {}'.format(len(X_train[X_train['time'] > time_upper_boundary]) / len(X_train) * 100))\n",
        "print('% left end outliers  : {}'.format(len(X_train[X_train['time'] < time_lower_boundary]) / len(X_train) * 100))"
      ]
    },
    {
      "cell_type": "markdown",
      "metadata": {
        "id": "t5wYzzqLb5R4"
      },
      "source": [
        "Kedua column tersebut tidak memiliki Outlier"
      ]
    },
    {
      "cell_type": "markdown",
      "metadata": {
        "id": "KOuU6ta8q4AA"
      },
      "source": [
        "###Outlier detection for skewed variables"
      ]
    },
    {
      "cell_type": "code",
      "execution_count": null,
      "metadata": {
        "id": "aQKFHpy_vroO"
      },
      "outputs": [],
      "source": [
        "def find_skewed_boundaries(df, variable, distance):\n",
        "    IQR = df[variable].quantile(0.75) - df[variable].quantile(0.25)\n",
        "\n",
        "    lower_boundary = df[variable].quantile(0.25) - (IQR * distance)\n",
        "    upper_boundary = df[variable].quantile(0.75) + (IQR * distance)\n",
        "\n",
        "    return upper_boundary, lower_boundary"
      ]
    },
    {
      "cell_type": "code",
      "execution_count": null,
      "metadata": {
        "colab": {
          "base_uri": "https://localhost:8080/"
        },
        "id": "S2KoX6n5vupE",
        "outputId": "04a91b7b-5d91-48f5-fec1-70978f2bab70"
      },
      "outputs": [
        {
          "name": "stdout",
          "output_type": "stream",
          "text": [
            "creatinine_phosphokinase upper limit :  1272.0\n",
            "creatinine_phosphokinase lower limit :  -568.0 \n",
            "\n",
            "ejection_fraction upper limit        :  67.5\n",
            "ejection_fraction lower limitt       :  7.5 \n",
            "\n",
            "serum_creatinine upper limit         :  1.9000000000000001\n",
            "serum_creatinine lower limit         :  0.29999999999999993 \n",
            "\n",
            "serum_sodium upper limit             :  146.5\n",
            "serum_sodium lower limit             :  126.5\n"
          ]
        }
      ],
      "source": [
        "CP_upper_limit, CP_lower_limit = find_skewed_boundaries(X_train, 'creatinine_phosphokinase', 1.5)\n",
        "CP_upper_limit, CP_lower_limit\n",
        "\n",
        "EF_upper_limit, EF_lower_limit = find_skewed_boundaries(X_train, 'ejection_fraction', 1.5)\n",
        "EF_upper_limit, EF_lower_limit\n",
        "\n",
        "SC_upper_limit, SC_lower_limit = find_skewed_boundaries(X_train, 'serum_creatinine', 1.5)\n",
        "SC_upper_limit, SC_lower_limit\n",
        "\n",
        "SS_upper_limit, SS_lower_limit = find_skewed_boundaries(X_train, 'serum_sodium', 1.5)\n",
        "SS_upper_limit, SS_lower_limit\n",
        "\n",
        "print('creatinine_phosphokinase upper limit : ', CP_upper_limit)\n",
        "print('creatinine_phosphokinase lower limit : ', CP_lower_limit, '\\n')\n",
        "print('ejection_fraction upper limit        : ', EF_upper_limit)\n",
        "print('ejection_fraction lower limitt       : ', EF_lower_limit, '\\n')\n",
        "print('serum_creatinine upper limit         : ', SC_upper_limit)\n",
        "print('serum_creatinine lower limit         : ', SC_lower_limit, '\\n')\n",
        "print('serum_sodium upper limit             : ', SS_upper_limit)\n",
        "print('serum_sodium lower limit             : ', SS_lower_limit)"
      ]
    },
    {
      "cell_type": "code",
      "execution_count": null,
      "metadata": {
        "colab": {
          "base_uri": "https://localhost:8080/"
        },
        "id": "WvvYOH1amrm8",
        "outputId": "76404b3f-de59-4fae-b167-8fc44d7e3fb4"
      },
      "outputs": [
        {
          "name": "stdout",
          "output_type": "stream",
          "text": [
            "Total creatinine_phosphokinase : 209\n",
            "creatinine_phosphokinase more than 1272   : 21\n",
            "\n",
            "% creatinine_phosphokinase more than 1272 : 10.047846889952153\n"
          ]
        }
      ],
      "source": [
        "print('Total creatinine_phosphokinase : {}'.format(len(X_train)))\n",
        "print('creatinine_phosphokinase more than 1272   : {}'.format(len(X_train[X_train['creatinine_phosphokinase'] > CP_upper_limit])))\n",
        "print('')\n",
        "print('% creatinine_phosphokinase more than 1272 : {}'.format(len(X_train[X_train['creatinine_phosphokinase'] > CP_upper_limit])/len(X_train) * 100))"
      ]
    },
    {
      "cell_type": "code",
      "execution_count": null,
      "metadata": {
        "colab": {
          "base_uri": "https://localhost:8080/"
        },
        "id": "EIs8r6FYxoLT",
        "outputId": "7006b758-df8b-4001-d40f-5e7660beba4b"
      },
      "outputs": [
        {
          "name": "stdout",
          "output_type": "stream",
          "text": [
            "ejection_fraction : 209\n",
            "ejection_fraction more than 67   : 2\n",
            "\n",
            "% ejection_fraction more than 67 : 0.9569377990430622\n"
          ]
        }
      ],
      "source": [
        "print('ejection_fraction : {}'.format(len(X_train)))\n",
        "print('ejection_fraction more than 67   : {}'.format(len(X_train[X_train['ejection_fraction'] > EF_upper_limit])))\n",
        "print('')\n",
        "print('% ejection_fraction more than 67 : {}'.format(len(X_train[X_train['ejection_fraction'] > EF_upper_limit])/len(X_train) * 100))"
      ]
    },
    {
      "cell_type": "code",
      "execution_count": null,
      "metadata": {
        "colab": {
          "base_uri": "https://localhost:8080/"
        },
        "id": "ZleYlE32yFBD",
        "outputId": "4c7fa93f-0dc6-46af-cb44-439b09ec7d15"
      },
      "outputs": [
        {
          "name": "stdout",
          "output_type": "stream",
          "text": [
            "serum_creatinine : 209\n",
            "serum_creatinine more than 1.9   : 21\n",
            "\n",
            "% serum_creatinine more than 1.9 : 10.047846889952153\n"
          ]
        }
      ],
      "source": [
        "print('serum_creatinine : {}'.format(len(X_train)))\n",
        "print('serum_creatinine more than 1.9   : {}'.format(len(X_train[X_train['serum_creatinine'] > SC_upper_limit])))\n",
        "print('')\n",
        "print('% serum_creatinine more than 1.9 : {}'.format(len(X_train[X_train['serum_creatinine'] > SC_upper_limit])/len(X_train) * 100))"
      ]
    },
    {
      "cell_type": "code",
      "execution_count": null,
      "metadata": {
        "colab": {
          "base_uri": "https://localhost:8080/"
        },
        "id": "MNphxcjNycgb",
        "outputId": "f0e5f6a9-12af-47d0-914a-4c06484b661e"
      },
      "outputs": [
        {
          "name": "stdout",
          "output_type": "stream",
          "text": [
            "serum_sodium : 209\n",
            "serum_sodium more than 126.5   : 4\n",
            "\n",
            "% serum_sodium more than 126.5 : 1.9138755980861244\n"
          ]
        }
      ],
      "source": [
        "print('serum_sodium : {}'.format(len(X_train)))\n",
        "print('serum_sodium more than 126.5   : {}'.format(len(X_train[X_train['serum_sodium'] < SS_lower_limit])))\n",
        "print('')\n",
        "print('% serum_sodium more than 126.5 : {}'.format(len(X_train[X_train['serum_sodium'] < SS_lower_limit])/len(X_train) * 100))"
      ]
    },
    {
      "cell_type": "markdown",
      "metadata": {
        "id": "4r1Ap64rytCw"
      },
      "source": [
        "###Capping Method"
      ]
    },
    {
      "cell_type": "code",
      "execution_count": null,
      "metadata": {
        "id": "jeB9nMwQyyyr"
      },
      "outputs": [],
      "source": [
        "cols = ['creatinine_phosphokinase','ejection_fraction','serum_creatinine','serum_sodium']"
      ]
    },
    {
      "cell_type": "code",
      "execution_count": null,
      "metadata": {
        "id": "ZWQzQv2hy2_W"
      },
      "outputs": [],
      "source": [
        "def capping_out(df, cols, from_low_bond, from_high_bond):\n",
        "\n",
        "  for col in cols:\n",
        "    stats.mstats.winsorize(a=df[col], limits=(from_low_bond, from_high_bond), inplace =True)"
      ]
    },
    {
      "cell_type": "code",
      "execution_count": null,
      "metadata": {
        "colab": {
          "base_uri": "https://localhost:8080/",
          "height": 318
        },
        "id": "OKIujFANzb1L",
        "outputId": "b199b76e-b2f8-4a28-dbd4-49eba5bb5e42"
      },
      "outputs": [
        {
          "name": "stdout",
          "output_type": "stream",
          "text": [
            "before capping\n"
          ]
        },
        {
          "data": {
            "text/html": [
              "\n",
              "  <div id=\"df-cdf9a243-7083-47c5-81c5-632959ee8a80\">\n",
              "    <div class=\"colab-df-container\">\n",
              "      <div>\n",
              "<style scoped>\n",
              "    .dataframe tbody tr th:only-of-type {\n",
              "        vertical-align: middle;\n",
              "    }\n",
              "\n",
              "    .dataframe tbody tr th {\n",
              "        vertical-align: top;\n",
              "    }\n",
              "\n",
              "    .dataframe thead th {\n",
              "        text-align: right;\n",
              "    }\n",
              "</style>\n",
              "<table border=\"1\" class=\"dataframe\">\n",
              "  <thead>\n",
              "    <tr style=\"text-align: right;\">\n",
              "      <th></th>\n",
              "      <th>creatinine_phosphokinase</th>\n",
              "      <th>ejection_fraction</th>\n",
              "      <th>serum_creatinine</th>\n",
              "      <th>serum_sodium</th>\n",
              "    </tr>\n",
              "  </thead>\n",
              "  <tbody>\n",
              "    <tr>\n",
              "      <th>count</th>\n",
              "      <td>209.00000</td>\n",
              "      <td>209.000000</td>\n",
              "      <td>209.000000</td>\n",
              "      <td>209.000000</td>\n",
              "    </tr>\n",
              "    <tr>\n",
              "      <th>mean</th>\n",
              "      <td>583.22488</td>\n",
              "      <td>38.258373</td>\n",
              "      <td>1.393589</td>\n",
              "      <td>136.540670</td>\n",
              "    </tr>\n",
              "    <tr>\n",
              "      <th>std</th>\n",
              "      <td>992.57029</td>\n",
              "      <td>11.990390</td>\n",
              "      <td>1.108673</td>\n",
              "      <td>4.416917</td>\n",
              "    </tr>\n",
              "    <tr>\n",
              "      <th>min</th>\n",
              "      <td>47.00000</td>\n",
              "      <td>14.000000</td>\n",
              "      <td>0.500000</td>\n",
              "      <td>113.000000</td>\n",
              "    </tr>\n",
              "    <tr>\n",
              "      <th>25%</th>\n",
              "      <td>122.00000</td>\n",
              "      <td>30.000000</td>\n",
              "      <td>0.900000</td>\n",
              "      <td>134.000000</td>\n",
              "    </tr>\n",
              "    <tr>\n",
              "      <th>50%</th>\n",
              "      <td>250.00000</td>\n",
              "      <td>38.000000</td>\n",
              "      <td>1.100000</td>\n",
              "      <td>137.000000</td>\n",
              "    </tr>\n",
              "    <tr>\n",
              "      <th>75%</th>\n",
              "      <td>582.00000</td>\n",
              "      <td>45.000000</td>\n",
              "      <td>1.300000</td>\n",
              "      <td>139.000000</td>\n",
              "    </tr>\n",
              "    <tr>\n",
              "      <th>max</th>\n",
              "      <td>7861.00000</td>\n",
              "      <td>80.000000</td>\n",
              "      <td>9.400000</td>\n",
              "      <td>145.000000</td>\n",
              "    </tr>\n",
              "  </tbody>\n",
              "</table>\n",
              "</div>\n",
              "      <button class=\"colab-df-convert\" onclick=\"convertToInteractive('df-cdf9a243-7083-47c5-81c5-632959ee8a80')\"\n",
              "              title=\"Convert this dataframe to an interactive table.\"\n",
              "              style=\"display:none;\">\n",
              "        \n",
              "  <svg xmlns=\"http://www.w3.org/2000/svg\" height=\"24px\"viewBox=\"0 0 24 24\"\n",
              "       width=\"24px\">\n",
              "    <path d=\"M0 0h24v24H0V0z\" fill=\"none\"/>\n",
              "    <path d=\"M18.56 5.44l.94 2.06.94-2.06 2.06-.94-2.06-.94-.94-2.06-.94 2.06-2.06.94zm-11 1L8.5 8.5l.94-2.06 2.06-.94-2.06-.94L8.5 2.5l-.94 2.06-2.06.94zm10 10l.94 2.06.94-2.06 2.06-.94-2.06-.94-.94-2.06-.94 2.06-2.06.94z\"/><path d=\"M17.41 7.96l-1.37-1.37c-.4-.4-.92-.59-1.43-.59-.52 0-1.04.2-1.43.59L10.3 9.45l-7.72 7.72c-.78.78-.78 2.05 0 2.83L4 21.41c.39.39.9.59 1.41.59.51 0 1.02-.2 1.41-.59l7.78-7.78 2.81-2.81c.8-.78.8-2.07 0-2.86zM5.41 20L4 18.59l7.72-7.72 1.47 1.35L5.41 20z\"/>\n",
              "  </svg>\n",
              "      </button>\n",
              "      \n",
              "  <style>\n",
              "    .colab-df-container {\n",
              "      display:flex;\n",
              "      flex-wrap:wrap;\n",
              "      gap: 12px;\n",
              "    }\n",
              "\n",
              "    .colab-df-convert {\n",
              "      background-color: #E8F0FE;\n",
              "      border: none;\n",
              "      border-radius: 50%;\n",
              "      cursor: pointer;\n",
              "      display: none;\n",
              "      fill: #1967D2;\n",
              "      height: 32px;\n",
              "      padding: 0 0 0 0;\n",
              "      width: 32px;\n",
              "    }\n",
              "\n",
              "    .colab-df-convert:hover {\n",
              "      background-color: #E2EBFA;\n",
              "      box-shadow: 0px 1px 2px rgba(60, 64, 67, 0.3), 0px 1px 3px 1px rgba(60, 64, 67, 0.15);\n",
              "      fill: #174EA6;\n",
              "    }\n",
              "\n",
              "    [theme=dark] .colab-df-convert {\n",
              "      background-color: #3B4455;\n",
              "      fill: #D2E3FC;\n",
              "    }\n",
              "\n",
              "    [theme=dark] .colab-df-convert:hover {\n",
              "      background-color: #434B5C;\n",
              "      box-shadow: 0px 1px 3px 1px rgba(0, 0, 0, 0.15);\n",
              "      filter: drop-shadow(0px 1px 2px rgba(0, 0, 0, 0.3));\n",
              "      fill: #FFFFFF;\n",
              "    }\n",
              "  </style>\n",
              "\n",
              "      <script>\n",
              "        const buttonEl =\n",
              "          document.querySelector('#df-cdf9a243-7083-47c5-81c5-632959ee8a80 button.colab-df-convert');\n",
              "        buttonEl.style.display =\n",
              "          google.colab.kernel.accessAllowed ? 'block' : 'none';\n",
              "\n",
              "        async function convertToInteractive(key) {\n",
              "          const element = document.querySelector('#df-cdf9a243-7083-47c5-81c5-632959ee8a80');\n",
              "          const dataTable =\n",
              "            await google.colab.kernel.invokeFunction('convertToInteractive',\n",
              "                                                     [key], {});\n",
              "          if (!dataTable) return;\n",
              "\n",
              "          const docLinkHtml = 'Like what you see? Visit the ' +\n",
              "            '<a target=\"_blank\" href=https://colab.research.google.com/notebooks/data_table.ipynb>data table notebook</a>'\n",
              "            + ' to learn more about interactive tables.';\n",
              "          element.innerHTML = '';\n",
              "          dataTable['output_type'] = 'display_data';\n",
              "          await google.colab.output.renderOutput(dataTable, element);\n",
              "          const docLink = document.createElement('div');\n",
              "          docLink.innerHTML = docLinkHtml;\n",
              "          element.appendChild(docLink);\n",
              "        }\n",
              "      </script>\n",
              "    </div>\n",
              "  </div>\n",
              "  "
            ],
            "text/plain": [
              "       creatinine_phosphokinase  ejection_fraction  serum_creatinine  \\\n",
              "count                 209.00000         209.000000        209.000000   \n",
              "mean                  583.22488          38.258373          1.393589   \n",
              "std                   992.57029          11.990390          1.108673   \n",
              "min                    47.00000          14.000000          0.500000   \n",
              "25%                   122.00000          30.000000          0.900000   \n",
              "50%                   250.00000          38.000000          1.100000   \n",
              "75%                   582.00000          45.000000          1.300000   \n",
              "max                  7861.00000          80.000000          9.400000   \n",
              "\n",
              "       serum_sodium  \n",
              "count    209.000000  \n",
              "mean     136.540670  \n",
              "std        4.416917  \n",
              "min      113.000000  \n",
              "25%      134.000000  \n",
              "50%      137.000000  \n",
              "75%      139.000000  \n",
              "max      145.000000  "
            ]
          },
          "execution_count": 31,
          "metadata": {},
          "output_type": "execute_result"
        }
      ],
      "source": [
        "print(\"before capping\")\n",
        "X_train[['creatinine_phosphokinase','ejection_fraction','serum_creatinine','serum_sodium']].describe()"
      ]
    },
    {
      "cell_type": "code",
      "execution_count": null,
      "metadata": {
        "id": "rlkfJTPf0I66"
      },
      "outputs": [],
      "source": [
        "capping_out(X_train, cols, 0.1, 0.1)\n",
        "capping_out(X_test, cols, 0.1, 0.1)"
      ]
    },
    {
      "cell_type": "code",
      "execution_count": null,
      "metadata": {
        "colab": {
          "base_uri": "https://localhost:8080/",
          "height": 318
        },
        "id": "0697ScxP0LSh",
        "outputId": "a42b143a-d56b-493b-c1de-67574ad84aa8"
      },
      "outputs": [
        {
          "name": "stdout",
          "output_type": "stream",
          "text": [
            "after capping\n"
          ]
        },
        {
          "data": {
            "text/html": [
              "\n",
              "  <div id=\"df-e997540e-cda2-48fd-95dd-9fba0dd4f3e7\">\n",
              "    <div class=\"colab-df-container\">\n",
              "      <div>\n",
              "<style scoped>\n",
              "    .dataframe tbody tr th:only-of-type {\n",
              "        vertical-align: middle;\n",
              "    }\n",
              "\n",
              "    .dataframe tbody tr th {\n",
              "        vertical-align: top;\n",
              "    }\n",
              "\n",
              "    .dataframe thead th {\n",
              "        text-align: right;\n",
              "    }\n",
              "</style>\n",
              "<table border=\"1\" class=\"dataframe\">\n",
              "  <thead>\n",
              "    <tr style=\"text-align: right;\">\n",
              "      <th></th>\n",
              "      <th>creatinine_phosphokinase</th>\n",
              "      <th>ejection_fraction</th>\n",
              "      <th>serum_creatinine</th>\n",
              "      <th>serum_sodium</th>\n",
              "    </tr>\n",
              "  </thead>\n",
              "  <tbody>\n",
              "    <tr>\n",
              "      <th>count</th>\n",
              "      <td>209.000000</td>\n",
              "      <td>209.000000</td>\n",
              "      <td>209.000000</td>\n",
              "      <td>209.000000</td>\n",
              "    </tr>\n",
              "    <tr>\n",
              "      <th>mean</th>\n",
              "      <td>436.904306</td>\n",
              "      <td>38.555024</td>\n",
              "      <td>1.210096</td>\n",
              "      <td>136.755981</td>\n",
              "    </tr>\n",
              "    <tr>\n",
              "      <th>std</th>\n",
              "      <td>407.824529</td>\n",
              "      <td>10.839213</td>\n",
              "      <td>0.376427</td>\n",
              "      <td>2.899399</td>\n",
              "    </tr>\n",
              "    <tr>\n",
              "      <th>min</th>\n",
              "      <td>68.000000</td>\n",
              "      <td>25.000000</td>\n",
              "      <td>0.800000</td>\n",
              "      <td>132.000000</td>\n",
              "    </tr>\n",
              "    <tr>\n",
              "      <th>25%</th>\n",
              "      <td>122.000000</td>\n",
              "      <td>30.000000</td>\n",
              "      <td>0.900000</td>\n",
              "      <td>134.000000</td>\n",
              "    </tr>\n",
              "    <tr>\n",
              "      <th>50%</th>\n",
              "      <td>250.000000</td>\n",
              "      <td>38.000000</td>\n",
              "      <td>1.100000</td>\n",
              "      <td>137.000000</td>\n",
              "    </tr>\n",
              "    <tr>\n",
              "      <th>75%</th>\n",
              "      <td>582.000000</td>\n",
              "      <td>45.000000</td>\n",
              "      <td>1.300000</td>\n",
              "      <td>139.000000</td>\n",
              "    </tr>\n",
              "    <tr>\n",
              "      <th>max</th>\n",
              "      <td>1380.000000</td>\n",
              "      <td>60.000000</td>\n",
              "      <td>2.000000</td>\n",
              "      <td>141.000000</td>\n",
              "    </tr>\n",
              "  </tbody>\n",
              "</table>\n",
              "</div>\n",
              "      <button class=\"colab-df-convert\" onclick=\"convertToInteractive('df-e997540e-cda2-48fd-95dd-9fba0dd4f3e7')\"\n",
              "              title=\"Convert this dataframe to an interactive table.\"\n",
              "              style=\"display:none;\">\n",
              "        \n",
              "  <svg xmlns=\"http://www.w3.org/2000/svg\" height=\"24px\"viewBox=\"0 0 24 24\"\n",
              "       width=\"24px\">\n",
              "    <path d=\"M0 0h24v24H0V0z\" fill=\"none\"/>\n",
              "    <path d=\"M18.56 5.44l.94 2.06.94-2.06 2.06-.94-2.06-.94-.94-2.06-.94 2.06-2.06.94zm-11 1L8.5 8.5l.94-2.06 2.06-.94-2.06-.94L8.5 2.5l-.94 2.06-2.06.94zm10 10l.94 2.06.94-2.06 2.06-.94-2.06-.94-.94-2.06-.94 2.06-2.06.94z\"/><path d=\"M17.41 7.96l-1.37-1.37c-.4-.4-.92-.59-1.43-.59-.52 0-1.04.2-1.43.59L10.3 9.45l-7.72 7.72c-.78.78-.78 2.05 0 2.83L4 21.41c.39.39.9.59 1.41.59.51 0 1.02-.2 1.41-.59l7.78-7.78 2.81-2.81c.8-.78.8-2.07 0-2.86zM5.41 20L4 18.59l7.72-7.72 1.47 1.35L5.41 20z\"/>\n",
              "  </svg>\n",
              "      </button>\n",
              "      \n",
              "  <style>\n",
              "    .colab-df-container {\n",
              "      display:flex;\n",
              "      flex-wrap:wrap;\n",
              "      gap: 12px;\n",
              "    }\n",
              "\n",
              "    .colab-df-convert {\n",
              "      background-color: #E8F0FE;\n",
              "      border: none;\n",
              "      border-radius: 50%;\n",
              "      cursor: pointer;\n",
              "      display: none;\n",
              "      fill: #1967D2;\n",
              "      height: 32px;\n",
              "      padding: 0 0 0 0;\n",
              "      width: 32px;\n",
              "    }\n",
              "\n",
              "    .colab-df-convert:hover {\n",
              "      background-color: #E2EBFA;\n",
              "      box-shadow: 0px 1px 2px rgba(60, 64, 67, 0.3), 0px 1px 3px 1px rgba(60, 64, 67, 0.15);\n",
              "      fill: #174EA6;\n",
              "    }\n",
              "\n",
              "    [theme=dark] .colab-df-convert {\n",
              "      background-color: #3B4455;\n",
              "      fill: #D2E3FC;\n",
              "    }\n",
              "\n",
              "    [theme=dark] .colab-df-convert:hover {\n",
              "      background-color: #434B5C;\n",
              "      box-shadow: 0px 1px 3px 1px rgba(0, 0, 0, 0.15);\n",
              "      filter: drop-shadow(0px 1px 2px rgba(0, 0, 0, 0.3));\n",
              "      fill: #FFFFFF;\n",
              "    }\n",
              "  </style>\n",
              "\n",
              "      <script>\n",
              "        const buttonEl =\n",
              "          document.querySelector('#df-e997540e-cda2-48fd-95dd-9fba0dd4f3e7 button.colab-df-convert');\n",
              "        buttonEl.style.display =\n",
              "          google.colab.kernel.accessAllowed ? 'block' : 'none';\n",
              "\n",
              "        async function convertToInteractive(key) {\n",
              "          const element = document.querySelector('#df-e997540e-cda2-48fd-95dd-9fba0dd4f3e7');\n",
              "          const dataTable =\n",
              "            await google.colab.kernel.invokeFunction('convertToInteractive',\n",
              "                                                     [key], {});\n",
              "          if (!dataTable) return;\n",
              "\n",
              "          const docLinkHtml = 'Like what you see? Visit the ' +\n",
              "            '<a target=\"_blank\" href=https://colab.research.google.com/notebooks/data_table.ipynb>data table notebook</a>'\n",
              "            + ' to learn more about interactive tables.';\n",
              "          element.innerHTML = '';\n",
              "          dataTable['output_type'] = 'display_data';\n",
              "          await google.colab.output.renderOutput(dataTable, element);\n",
              "          const docLink = document.createElement('div');\n",
              "          docLink.innerHTML = docLinkHtml;\n",
              "          element.appendChild(docLink);\n",
              "        }\n",
              "      </script>\n",
              "    </div>\n",
              "  </div>\n",
              "  "
            ],
            "text/plain": [
              "       creatinine_phosphokinase  ejection_fraction  serum_creatinine  \\\n",
              "count                209.000000         209.000000        209.000000   \n",
              "mean                 436.904306          38.555024          1.210096   \n",
              "std                  407.824529          10.839213          0.376427   \n",
              "min                   68.000000          25.000000          0.800000   \n",
              "25%                  122.000000          30.000000          0.900000   \n",
              "50%                  250.000000          38.000000          1.100000   \n",
              "75%                  582.000000          45.000000          1.300000   \n",
              "max                 1380.000000          60.000000          2.000000   \n",
              "\n",
              "       serum_sodium  \n",
              "count    209.000000  \n",
              "mean     136.755981  \n",
              "std        2.899399  \n",
              "min      132.000000  \n",
              "25%      134.000000  \n",
              "50%      137.000000  \n",
              "75%      139.000000  \n",
              "max      141.000000  "
            ]
          },
          "execution_count": 33,
          "metadata": {},
          "output_type": "execute_result"
        }
      ],
      "source": [
        "print(\"after capping\")\n",
        "X_train[['creatinine_phosphokinase','ejection_fraction','serum_creatinine','serum_sodium']].describe()"
      ]
    },
    {
      "cell_type": "markdown",
      "metadata": {
        "id": "S9gleUNcbv6r"
      },
      "source": [
        "dapat dilihat terjadi perubahan terhadap min dan max setiap column yang di Capping"
      ]
    },
    {
      "cell_type": "markdown",
      "metadata": {
        "id": "ip7805tZjMTs"
      },
      "source": [
        "##Feture Scaling"
      ]
    },
    {
      "cell_type": "code",
      "execution_count": null,
      "metadata": {
        "id": "HPI4aZwUjPpw"
      },
      "outputs": [],
      "source": [
        "scaler = StandardScaler()\n",
        "X_train = scaler.fit_transform(X_train)\n",
        "X_test = scaler.transform(X_test)"
      ]
    },
    {
      "cell_type": "markdown",
      "metadata": {
        "id": "aP9jGVKZE_20"
      },
      "source": [
        "#Model ensemble"
      ]
    },
    {
      "cell_type": "markdown",
      "metadata": {
        "id": "iG0heupUiDmY"
      },
      "source": [
        "Fungsi ini digunakan untuk mengevaluasi hasil training dan test model, serta confusion matrix dari training dan test"
      ]
    },
    {
      "cell_type": "code",
      "execution_count": null,
      "metadata": {
        "id": "MrsBaxM-jfLK"
      },
      "outputs": [],
      "source": [
        "def evaluate(model, X_train, X_test, y_train, y_test):\n",
        "    y_test_pred = model.predict(X_test)\n",
        "    y_train_pred = model.predict(X_train)\n",
        "\n",
        "    print(\"HASIL TRAINING : \\n=================================================================================\")\n",
        "    clf_report = pd.DataFrame(classification_report(y_train, y_train_pred, output_dict=True))\n",
        "    print(f\"CONFUSION MATRIX:\\n{confusion_matrix(y_train, y_train_pred)}\")\n",
        "    print(f\"ACCURACY SCORE:\\n{accuracy_score(y_train, y_train_pred):.4f}\")\n",
        "    print(f\"CLASSIFICATION REPORT:\\n{clf_report}\")\n",
        "    print(\"=================================================================================\")\n",
        "\n",
        "    print(\"TESTING RESULTS: \\n=================================================================================\")\n",
        "    clf_report = pd.DataFrame(classification_report(y_test, y_test_pred, output_dict=True))\n",
        "    print(f\"CONFUSION MATRIX:\\n{confusion_matrix(y_test, y_test_pred)}\")\n",
        "    print(f\"ACCURACY SCORE:\\n{accuracy_score(y_test, y_test_pred):.4f}\")\n",
        "    print(f\"CLASSIFICATION REPORT:\\n{clf_report}\")\n",
        "    print(\"=================================================================================\")"
      ]
    },
    {
      "cell_type": "markdown",
      "metadata": {
        "id": "mNARSI_Ui1BH"
      },
      "source": [
        "##Bagging"
      ]
    },
    {
      "cell_type": "markdown",
      "metadata": {
        "id": "-eorjr-olL50"
      },
      "source": [
        "- Model ensemble Bagging (Bootstrap Aggregating) adalah salah satu metode ensemble learning yang digunakan untuk meningkatkan kinerja prediksi dengan menggabungkan hasil prediksi dari beberapa model pembelajaran yang independen\n",
        "- Keuntungan utama dari metode Bagging adalah kemampuannya untuk mengurangi overfitting, meningkatkan akurasi prediksi, dan meningkatkan generalisasi pada data baru. Metode ini juga dapat digunakan dengan berbagai jenis algoritma pembelajaran, seperti decision tree, random forest, dan lainnya."
      ]
    },
    {
      "cell_type": "markdown",
      "metadata": {
        "id": "73Hzzm5np5Pt"
      },
      "source": [
        "###1. BaggingClassifier"
      ]
    },
    {
      "cell_type": "code",
      "execution_count": null,
      "metadata": {
        "colab": {
          "base_uri": "https://localhost:8080/"
        },
        "id": "KT69Spltik65",
        "outputId": "991ad899-c6b6-427b-c6db-213a200740c6"
      },
      "outputs": [
        {
          "name": "stderr",
          "output_type": "stream",
          "text": [
            "/usr/local/lib/python3.10/dist-packages/sklearn/ensemble/_base.py:166: FutureWarning: `base_estimator` was renamed to `estimator` in version 1.2 and will be removed in 1.4.\n",
            "  warnings.warn(\n"
          ]
        },
        {
          "name": "stdout",
          "output_type": "stream",
          "text": [
            "HASIL TRAINING : \n",
            "=================================================================================\n",
            "CONFUSION MATRIX:\n",
            "[[150   0]\n",
            " [  0  59]]\n",
            "ACCURACY SCORE:\n",
            "1.0000\n",
            "CLASSIFICATION REPORT:\n",
            "               0     1  accuracy  macro avg  weighted avg\n",
            "precision    1.0   1.0       1.0        1.0           1.0\n",
            "recall       1.0   1.0       1.0        1.0           1.0\n",
            "f1-score     1.0   1.0       1.0        1.0           1.0\n",
            "support    150.0  59.0       1.0      209.0         209.0\n",
            "=================================================================================\n",
            "TESTING RESULTS: \n",
            "=================================================================================\n",
            "CONFUSION MATRIX:\n",
            "[[50  3]\n",
            " [17 20]]\n",
            "ACCURACY SCORE:\n",
            "0.7778\n",
            "CLASSIFICATION REPORT:\n",
            "                   0          1  accuracy  macro avg  weighted avg\n",
            "precision   0.746269   0.869565  0.777778   0.807917      0.796957\n",
            "recall      0.943396   0.540541  0.777778   0.741968      0.777778\n",
            "f1-score    0.833333   0.666667  0.777778   0.750000      0.764815\n",
            "support    53.000000  37.000000  0.777778  90.000000     90.000000\n",
            "=================================================================================\n"
          ]
        }
      ],
      "source": [
        "tree = DecisionTreeClassifier()\n",
        "bagging_clf = BaggingClassifier(base_estimator=tree, n_estimators=1500, random_state=42)\n",
        "bagging_clf.fit(X_train, y_train)\n",
        "evaluate(bagging_clf, X_train, X_test, y_train, y_test)"
      ]
    },
    {
      "cell_type": "markdown",
      "metadata": {
        "id": "cbRpfmljqAW8"
      },
      "source": [
        "###2. ExtraTreesClassifier"
      ]
    },
    {
      "cell_type": "code",
      "execution_count": null,
      "metadata": {
        "colab": {
          "base_uri": "https://localhost:8080/"
        },
        "id": "8oWQ3QBbr1HG",
        "outputId": "d1462053-2f60-4bbd-bc56-4481c2145774"
      },
      "outputs": [
        {
          "name": "stdout",
          "output_type": "stream",
          "text": [
            "HASIL TRAINING : \n",
            "=================================================================================\n",
            "CONFUSION MATRIX:\n",
            "[[150   0]\n",
            " [  0  59]]\n",
            "ACCURACY SCORE:\n",
            "1.0000\n",
            "CLASSIFICATION REPORT:\n",
            "               0     1  accuracy  macro avg  weighted avg\n",
            "precision    1.0   1.0       1.0        1.0           1.0\n",
            "recall       1.0   1.0       1.0        1.0           1.0\n",
            "f1-score     1.0   1.0       1.0        1.0           1.0\n",
            "support    150.0  59.0       1.0      209.0         209.0\n",
            "=================================================================================\n",
            "TESTING RESULTS: \n",
            "=================================================================================\n",
            "CONFUSION MATRIX:\n",
            "[[50  3]\n",
            " [17 20]]\n",
            "ACCURACY SCORE:\n",
            "0.7778\n",
            "CLASSIFICATION REPORT:\n",
            "                   0          1  accuracy  macro avg  weighted avg\n",
            "precision   0.746269   0.869565  0.777778   0.807917      0.796957\n",
            "recall      0.943396   0.540541  0.777778   0.741968      0.777778\n",
            "f1-score    0.833333   0.666667  0.777778   0.750000      0.764815\n",
            "support    53.000000  37.000000  0.777778  90.000000     90.000000\n",
            "=================================================================================\n"
          ]
        }
      ],
      "source": [
        "extraTree = ExtraTreesClassifier()\n",
        "extraTree.fit(X_train, y_train)\n",
        "evaluate(extraTree, X_train, X_test, y_train, y_test)"
      ]
    },
    {
      "cell_type": "markdown",
      "metadata": {
        "id": "y7WWFSDpj6IM"
      },
      "source": [
        "##Boosting"
      ]
    },
    {
      "cell_type": "markdown",
      "metadata": {
        "id": "K59LgvYblmrq"
      },
      "source": [
        "- Model ensemble Boosting adalah metode ensemble learning lain yang digunakan untuk meningkatkan kinerja prediksi dengan menggabungkan hasil prediksi dari beberapa model pembelajaran yang disebut \"weak learner\" atau \"base learner\".\n",
        "- Keuntungan utama dari metode Boosting adalah kemampuannya untuk meningkatkan akurasi secara signifikan dan mengatasi masalah bias pada model yang terlalu sederhana. Metode Boosting juga dapat digunakan dengan berbagai jenis algoritma pembelajaran, seperti decision tree, SVM (Support Vector Machine), dan lainnya."
      ]
    },
    {
      "cell_type": "markdown",
      "metadata": {
        "id": "4lAIZdlMruT6"
      },
      "source": [
        "###1. GradientBoostingClassifier"
      ]
    },
    {
      "cell_type": "code",
      "execution_count": null,
      "metadata": {
        "colab": {
          "base_uri": "https://localhost:8080/"
        },
        "id": "BpCUsESdj49u",
        "outputId": "40a35be1-66a7-4d89-c9eb-505bfd6146fa"
      },
      "outputs": [
        {
          "name": "stdout",
          "output_type": "stream",
          "text": [
            "HASIL TRAINING : \n",
            "=================================================================================\n",
            "CONFUSION MATRIX:\n",
            "[[150   0]\n",
            " [  0  59]]\n",
            "ACCURACY SCORE:\n",
            "1.0000\n",
            "CLASSIFICATION REPORT:\n",
            "               0     1  accuracy  macro avg  weighted avg\n",
            "precision    1.0   1.0       1.0        1.0           1.0\n",
            "recall       1.0   1.0       1.0        1.0           1.0\n",
            "f1-score     1.0   1.0       1.0        1.0           1.0\n",
            "support    150.0  59.0       1.0      209.0         209.0\n",
            "=================================================================================\n",
            "TESTING RESULTS: \n",
            "=================================================================================\n",
            "CONFUSION MATRIX:\n",
            "[[49  4]\n",
            " [15 22]]\n",
            "ACCURACY SCORE:\n",
            "0.7889\n",
            "CLASSIFICATION REPORT:\n",
            "                   0          1  accuracy  macro avg  weighted avg\n",
            "precision   0.765625   0.846154  0.788889   0.805889      0.798731\n",
            "recall      0.924528   0.594595  0.788889   0.759561      0.788889\n",
            "f1-score    0.837607   0.698413  0.788889   0.768010      0.780383\n",
            "support    53.000000  37.000000  0.788889  90.000000     90.000000\n",
            "=================================================================================\n"
          ]
        }
      ],
      "source": [
        "grad_boost_clf = GradientBoostingClassifier(n_estimators=100, random_state=42)\n",
        "grad_boost_clf.fit(X_train, y_train)\n",
        "evaluate(grad_boost_clf, X_train, X_test, y_train, y_test)"
      ]
    },
    {
      "cell_type": "markdown",
      "metadata": {
        "id": "WiNtqO35rxOP"
      },
      "source": [
        "###2. AdaBoostClassifier"
      ]
    },
    {
      "cell_type": "code",
      "execution_count": null,
      "metadata": {
        "colab": {
          "base_uri": "https://localhost:8080/"
        },
        "id": "5iWvL0oeqDXr",
        "outputId": "e06845b5-f3a8-4756-881c-0fd4a890d2ef"
      },
      "outputs": [
        {
          "name": "stdout",
          "output_type": "stream",
          "text": [
            "HASIL TRAINING : \n",
            "=================================================================================\n",
            "CONFUSION MATRIX:\n",
            "[[149   1]\n",
            " [  5  54]]\n",
            "ACCURACY SCORE:\n",
            "0.9713\n",
            "CLASSIFICATION REPORT:\n",
            "                    0          1  accuracy   macro avg  weighted avg\n",
            "precision    0.967532   0.981818  0.971292    0.974675      0.971565\n",
            "recall       0.993333   0.915254  0.971292    0.954294      0.971292\n",
            "f1-score     0.980263   0.947368  0.971292    0.963816      0.970977\n",
            "support    150.000000  59.000000  0.971292  209.000000    209.000000\n",
            "=================================================================================\n",
            "TESTING RESULTS: \n",
            "=================================================================================\n",
            "CONFUSION MATRIX:\n",
            "[[44  9]\n",
            " [14 23]]\n",
            "ACCURACY SCORE:\n",
            "0.7444\n",
            "CLASSIFICATION REPORT:\n",
            "                   0          1  accuracy  macro avg  weighted avg\n",
            "precision   0.758621   0.718750  0.744444   0.738685      0.742229\n",
            "recall      0.830189   0.621622  0.744444   0.725905      0.744444\n",
            "f1-score    0.792793   0.666667  0.744444   0.729730      0.740941\n",
            "support    53.000000  37.000000  0.744444  90.000000     90.000000\n",
            "=================================================================================\n"
          ]
        }
      ],
      "source": [
        "ada_boost = AdaBoostClassifier(random_state=42)\n",
        "ada_boost.fit(X_train, y_train)\n",
        "evaluate(ada_boost, X_train, X_test, y_train, y_test)"
      ]
    },
    {
      "cell_type": "markdown",
      "metadata": {
        "id": "D_Wd3HnLUGu1"
      },
      "source": [
        "##Voting"
      ]
    },
    {
      "cell_type": "code",
      "execution_count": null,
      "metadata": {
        "colab": {
          "base_uri": "https://localhost:8080/"
        },
        "id": "7H-l7zJtkEXa",
        "outputId": "7d61fd15-2c3d-404e-c9da-e6359c702878"
      },
      "outputs": [
        {
          "name": "stdout",
          "output_type": "stream",
          "text": [
            "HASIL TRAINING : \n",
            "=================================================================================\n",
            "CONFUSION MATRIX:\n",
            "[[148   2]\n",
            " [ 22  37]]\n",
            "ACCURACY SCORE:\n",
            "0.8852\n",
            "CLASSIFICATION REPORT:\n",
            "                    0          1  accuracy   macro avg  weighted avg\n",
            "precision    0.870588   0.948718  0.885167    0.909653      0.892644\n",
            "recall       0.986667   0.627119  0.885167    0.806893      0.885167\n",
            "f1-score     0.925000   0.755102  0.885167    0.840051      0.877038\n",
            "support    150.000000  59.000000  0.885167  209.000000    209.000000\n",
            "=================================================================================\n",
            "TESTING RESULTS: \n",
            "=================================================================================\n",
            "CONFUSION MATRIX:\n",
            "[[50  3]\n",
            " [15 22]]\n",
            "ACCURACY SCORE:\n",
            "0.8000\n",
            "CLASSIFICATION REPORT:\n",
            "                   0          1  accuracy  macro avg  weighted avg\n",
            "precision   0.769231   0.880000       0.8   0.824615      0.814769\n",
            "recall      0.943396   0.594595       0.8   0.768995      0.800000\n",
            "f1-score    0.847458   0.709677       0.8   0.778568      0.790815\n",
            "support    53.000000  37.000000       0.8  90.000000     90.000000\n",
            "=================================================================================\n"
          ]
        }
      ],
      "source": [
        "estimators = []\n",
        "log_reg = LogisticRegression()\n",
        "estimators.append(('Logistic', log_reg))\n",
        "\n",
        "svm_clf = SVC()\n",
        "estimators.append(('SVM', svm_clf))\n",
        "\n",
        "voting = VotingClassifier(estimators=estimators)\n",
        "voting.fit(X_train, y_train)\n",
        "\n",
        "evaluate(voting, X_train, X_test, y_train, y_test)"
      ]
    },
    {
      "cell_type": "markdown",
      "metadata": {
        "id": "JegZtFRaR--P"
      },
      "source": [
        "#Model selection"
      ]
    },
    {
      "cell_type": "code",
      "execution_count": null,
      "metadata": {
        "id": "Wu6Sw-IKQ1kn"
      },
      "outputs": [],
      "source": [
        "BaggingTrain = accuracy_score(y_train, bagging_clf.predict(X_train))\n",
        "extraTreeTrain = accuracy_score(y_train, extraTree.predict(X_train))\n",
        "gBoostingTrain = accuracy_score(y_train, grad_boost_clf.predict(X_train))\n",
        "adaBoostingTrain = accuracy_score(y_train, ada_boost.predict(X_train))\n",
        "VotingTrain = accuracy_score(y_train, voting.predict(X_train))\n",
        "BaggingTest = accuracy_score(y_test, bagging_clf.predict(X_test))\n",
        "extraTreeTest = accuracy_score(y_test, extraTree.predict(X_test))\n",
        "gBoostingTest = accuracy_score(y_test, grad_boost_clf.predict(X_test))\n",
        "adaBoostingTest = accuracy_score(y_test, ada_boost.predict(X_test))\n",
        "VotingTest = accuracy_score(y_test, voting.predict(X_test))"
      ]
    },
    {
      "cell_type": "code",
      "execution_count": null,
      "metadata": {
        "id": "zLZmB-WiPrMm"
      },
      "outputs": [],
      "source": [
        "model_selection=pd.DataFrame({'Train_acc':[BaggingTrain, extraTreeTrain, gBoostingTrain, adaBoostingTrain, VotingTrain],\n",
        "                              'Test_acc': [BaggingTest, extraTreeTest, gBoostingTest, adaBoostingTest, VotingTest]},\n",
        "                              index=['Bagging','extraTree', 'gBoosting','adaBoost', 'Voting'])"
      ]
    },
    {
      "cell_type": "markdown",
      "metadata": {
        "id": "oAIC_hpN1JKh"
      },
      "source": [
        "buat dataframe agar lebih mudah dilihat"
      ]
    },
    {
      "cell_type": "code",
      "execution_count": null,
      "metadata": {
        "colab": {
          "base_uri": "https://localhost:8080/",
          "height": 206
        },
        "id": "-dMW2zdyRMnw",
        "outputId": "72dd07f9-a06b-48db-afdc-4013dfffe84d"
      },
      "outputs": [
        {
          "data": {
            "text/html": [
              "\n",
              "  <div id=\"df-7f21b929-6893-418c-82f9-d0fb80a95cae\">\n",
              "    <div class=\"colab-df-container\">\n",
              "      <div>\n",
              "<style scoped>\n",
              "    .dataframe tbody tr th:only-of-type {\n",
              "        vertical-align: middle;\n",
              "    }\n",
              "\n",
              "    .dataframe tbody tr th {\n",
              "        vertical-align: top;\n",
              "    }\n",
              "\n",
              "    .dataframe thead th {\n",
              "        text-align: right;\n",
              "    }\n",
              "</style>\n",
              "<table border=\"1\" class=\"dataframe\">\n",
              "  <thead>\n",
              "    <tr style=\"text-align: right;\">\n",
              "      <th></th>\n",
              "      <th>Train_acc</th>\n",
              "      <th>Test_acc</th>\n",
              "    </tr>\n",
              "  </thead>\n",
              "  <tbody>\n",
              "    <tr>\n",
              "      <th>Bagging</th>\n",
              "      <td>1.000000</td>\n",
              "      <td>0.777778</td>\n",
              "    </tr>\n",
              "    <tr>\n",
              "      <th>extraTree</th>\n",
              "      <td>1.000000</td>\n",
              "      <td>0.777778</td>\n",
              "    </tr>\n",
              "    <tr>\n",
              "      <th>gBoosting</th>\n",
              "      <td>1.000000</td>\n",
              "      <td>0.788889</td>\n",
              "    </tr>\n",
              "    <tr>\n",
              "      <th>adaBoost</th>\n",
              "      <td>0.971292</td>\n",
              "      <td>0.744444</td>\n",
              "    </tr>\n",
              "    <tr>\n",
              "      <th>Voting</th>\n",
              "      <td>0.923445</td>\n",
              "      <td>0.822222</td>\n",
              "    </tr>\n",
              "  </tbody>\n",
              "</table>\n",
              "</div>\n",
              "      <button class=\"colab-df-convert\" onclick=\"convertToInteractive('df-7f21b929-6893-418c-82f9-d0fb80a95cae')\"\n",
              "              title=\"Convert this dataframe to an interactive table.\"\n",
              "              style=\"display:none;\">\n",
              "        \n",
              "  <svg xmlns=\"http://www.w3.org/2000/svg\" height=\"24px\"viewBox=\"0 0 24 24\"\n",
              "       width=\"24px\">\n",
              "    <path d=\"M0 0h24v24H0V0z\" fill=\"none\"/>\n",
              "    <path d=\"M18.56 5.44l.94 2.06.94-2.06 2.06-.94-2.06-.94-.94-2.06-.94 2.06-2.06.94zm-11 1L8.5 8.5l.94-2.06 2.06-.94-2.06-.94L8.5 2.5l-.94 2.06-2.06.94zm10 10l.94 2.06.94-2.06 2.06-.94-2.06-.94-.94-2.06-.94 2.06-2.06.94z\"/><path d=\"M17.41 7.96l-1.37-1.37c-.4-.4-.92-.59-1.43-.59-.52 0-1.04.2-1.43.59L10.3 9.45l-7.72 7.72c-.78.78-.78 2.05 0 2.83L4 21.41c.39.39.9.59 1.41.59.51 0 1.02-.2 1.41-.59l7.78-7.78 2.81-2.81c.8-.78.8-2.07 0-2.86zM5.41 20L4 18.59l7.72-7.72 1.47 1.35L5.41 20z\"/>\n",
              "  </svg>\n",
              "      </button>\n",
              "      \n",
              "  <style>\n",
              "    .colab-df-container {\n",
              "      display:flex;\n",
              "      flex-wrap:wrap;\n",
              "      gap: 12px;\n",
              "    }\n",
              "\n",
              "    .colab-df-convert {\n",
              "      background-color: #E8F0FE;\n",
              "      border: none;\n",
              "      border-radius: 50%;\n",
              "      cursor: pointer;\n",
              "      display: none;\n",
              "      fill: #1967D2;\n",
              "      height: 32px;\n",
              "      padding: 0 0 0 0;\n",
              "      width: 32px;\n",
              "    }\n",
              "\n",
              "    .colab-df-convert:hover {\n",
              "      background-color: #E2EBFA;\n",
              "      box-shadow: 0px 1px 2px rgba(60, 64, 67, 0.3), 0px 1px 3px 1px rgba(60, 64, 67, 0.15);\n",
              "      fill: #174EA6;\n",
              "    }\n",
              "\n",
              "    [theme=dark] .colab-df-convert {\n",
              "      background-color: #3B4455;\n",
              "      fill: #D2E3FC;\n",
              "    }\n",
              "\n",
              "    [theme=dark] .colab-df-convert:hover {\n",
              "      background-color: #434B5C;\n",
              "      box-shadow: 0px 1px 3px 1px rgba(0, 0, 0, 0.15);\n",
              "      filter: drop-shadow(0px 1px 2px rgba(0, 0, 0, 0.3));\n",
              "      fill: #FFFFFF;\n",
              "    }\n",
              "  </style>\n",
              "\n",
              "      <script>\n",
              "        const buttonEl =\n",
              "          document.querySelector('#df-7f21b929-6893-418c-82f9-d0fb80a95cae button.colab-df-convert');\n",
              "        buttonEl.style.display =\n",
              "          google.colab.kernel.accessAllowed ? 'block' : 'none';\n",
              "\n",
              "        async function convertToInteractive(key) {\n",
              "          const element = document.querySelector('#df-7f21b929-6893-418c-82f9-d0fb80a95cae');\n",
              "          const dataTable =\n",
              "            await google.colab.kernel.invokeFunction('convertToInteractive',\n",
              "                                                     [key], {});\n",
              "          if (!dataTable) return;\n",
              "\n",
              "          const docLinkHtml = 'Like what you see? Visit the ' +\n",
              "            '<a target=\"_blank\" href=https://colab.research.google.com/notebooks/data_table.ipynb>data table notebook</a>'\n",
              "            + ' to learn more about interactive tables.';\n",
              "          element.innerHTML = '';\n",
              "          dataTable['output_type'] = 'display_data';\n",
              "          await google.colab.output.renderOutput(dataTable, element);\n",
              "          const docLink = document.createElement('div');\n",
              "          docLink.innerHTML = docLinkHtml;\n",
              "          element.appendChild(docLink);\n",
              "        }\n",
              "      </script>\n",
              "    </div>\n",
              "  </div>\n",
              "  "
            ],
            "text/plain": [
              "           Train_acc  Test_acc\n",
              "Bagging     1.000000  0.777778\n",
              "extraTree   1.000000  0.777778\n",
              "gBoosting   1.000000  0.788889\n",
              "adaBoost    0.971292  0.744444\n",
              "Voting      0.923445  0.822222"
            ]
          },
          "execution_count": 47,
          "metadata": {},
          "output_type": "execute_result"
        }
      ],
      "source": [
        "model_selection"
      ]
    },
    {
      "cell_type": "markdown",
      "metadata": {
        "id": "Mu15LyXVk6eU"
      },
      "source": [
        "- Bagging: Model Bagging memiliki akurasi pelatihan sebesar 1.000000, yang menunjukkan bahwa model Bagging sempurna dalam mempelajari pola pada dataset pelatihan. Namun, akurasi pengujian sebesar 0.777778 menunjukkan bahwa model Bagging mungkin mengalami overfitting, di mana kinerjanya menurun saat diterapkan pada data baru.\n",
        "\n",
        "- ExtraTree: Model ExtraTree juga memiliki akurasi pelatihan sebesar 1.000000, menunjukkan bahwa model ini mampu dengan sempurna mempelajari pola pada dataset pelatihan. Akurasi pengujian sebesar 0.788889 menunjukkan kinerja yang relatif baik pada data baru yang tidak terlihat sebelumnya.\n",
        "\n",
        "- Gradient Boosting (gBoosting): Model Gradient Boosting memiliki akurasi pelatihan sebesar 1.000000, menunjukkan bahwa model ini dapat mempelajari pola dengan sangat baik pada dataset pelatihan. Akurasi pengujian sebesar 0.788889 menunjukkan kinerja yang serupa dengan model ExtraTree, yang menunjukkan kemampuan model dalam generalisasi pada data baru.\n",
        "\n",
        "- AdaBoost: Model AdaBoost memiliki akurasi pelatihan sebesar 0.971292, menunjukkan bahwa model ini cukup baik dalam mempelajari pola pada dataset pelatihan. Akurasi pengujian sebesar 0.744444 menunjukkan bahwa model mungkin mengalami overfitting atau kesulitan dalam generalisasi pada data baru.\n",
        "\n",
        "- Voting: Model Voting memiliki akurasi pelatihan sebesar 0.923445, menunjukkan bahwa model ini mampu mempelajari pola pada dataset pelatihan. Akurasi pengujian sebesar 0.822222 menunjukkan kinerja yang lebih baik dibandingkan dengan model-model sebelumnya pada data baru yang tidak terlihat sebelumnya."
      ]
    },
    {
      "cell_type": "code",
      "execution_count": null,
      "metadata": {
        "colab": {
          "base_uri": "https://localhost:8080/",
          "height": 693
        },
        "id": "RFYMKIU-S-5L",
        "outputId": "d5222138-50a7-4ec8-d93e-aa17633d64f5"
      },
      "outputs": [
        {
          "data": {
            "text/plain": [
              "<Axes: >"
            ]
          },
          "execution_count": 63,
          "metadata": {},
          "output_type": "execute_result"
        },
        {
          "data": {
            "image/png": "[encoded data removed]",
            "text/plain": [
              "<Figure size 1200x800 with 1 Axes>"
            ]
          },
          "metadata": {},
          "output_type": "display_data"
        }
      ],
      "source": [
        "scores = (model_selection)\n",
        "\n",
        "scores.plot(kind='barh', figsize=(12, 8))"
      ]
    },
    {
      "cell_type": "markdown",
      "metadata": {
        "id": "OaHRcS1o08iH"
      },
      "source": [
        "Model Voting memiliki akurasi test yang paling tinggi dibanding model ensemble lainnya"
      ]
    },
    {
      "cell_type": "markdown",
      "metadata": {
        "id": "VbVTSB3cipdQ"
      },
      "source": [
        "#Save Model"
      ]
    },
    {
      "cell_type": "code",
      "execution_count": null,
      "metadata": {
        "colab": {
          "background_save": true
        },
        "id": "qWwWad1pit57"
      },
      "outputs": [],
      "source": [
        "pickle.dump(scaler, open(\"scaler.pickle\", \"wb\"))\n",
        "ssc = pickle.load(open(\"scaler.pickle\", 'rb'))\n",
        "\n",
        "pickle.dump(voting, open('voting.pkl','wb'))\n",
        "\n",
        "VotingClassifier = pickle.load(open('voting.pkl','rb'))\n"
      ]
    }
  ],
  "metadata": {
    "colab": {
      "collapsed_sections": [
        "NS5MHjjNo34a",
        "yrE-s52bo9Zg",
        "jc5QBiA8pBYD",
        "mNARSI_Ui1BH",
        "y7WWFSDpj6IM"
      ],
      "provenance": []
    },
    "kernelspec": {
      "display_name": "Python 3",
      "name": "python3"
    },
    "language_info": {
      "name": "python"
    }
  },
  "nbformat": 4,
  "nbformat_minor": 0
}